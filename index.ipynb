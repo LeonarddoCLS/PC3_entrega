{
 "cells": [
  {
   "cell_type": "markdown",
   "metadata": {
    "id": "BGwDCpsn9MNO",
    "jp-MarkdownHeadingCollapsed": true
   },
   "source": [
    "# PRACTICA CALIFICADA N°3\n",
    "\n",
    "Leonarddo Carlos López Solis\n",
    "20232345"
   ]
  },
  {
   "cell_type": "markdown",
   "metadata": {
    "id": "eJSqDcc19sZT"
   },
   "source": [
    "# CLEANING AND FORMATING"
   ]
  },
  {
   "cell_type": "code",
   "execution_count": 64,
   "metadata": {
    "id": "vmsuPM0vqO3K"
   },
   "outputs": [],
   "source": [
    "import pandas as pd\n",
    "linkEdu=\"https://github.com/LeonarddoCLS/PC3_entrega/raw/refs/heads/main/Education%20expenditures%20(1).csv\"\n",
    "linkElec=\"https://github.com/LeonarddoCLS/PC3_entrega/raw/refs/heads/main/Electricity%20-%20installed%20generating%20capacity.csv\"\n",
    "linkEnergy=\"https://github.com/LeonarddoCLS/PC3_entrega/raw/refs/heads/main/Energy%20consumption%20per%20capita.csv\"\n",
    "linkReserve=\"https://github.com/LeonarddoCLS/PC3_entrega/raw/refs/heads/main/Reserves%20of%20foreign%20exchange%20and%20gold.csv\"\n",
    "\n",
    "education=pd.read_csv(linkEdu)\n",
    "electricity=pd.read_csv(linkElec)\n",
    "energy=pd.read_csv(linkEnergy)\n",
    "reserve=pd.read_csv(linkReserve)\n",
    "\n",
    "\n"
   ]
  },
  {
   "cell_type": "markdown",
   "metadata": {
    "id": "Dj0lLw3jZ9k1"
   },
   "source": [
    "En el caso existan valores perdidos, los eliminamos con este comando"
   ]
  },
  {
   "cell_type": "code",
   "execution_count": 65,
   "metadata": {
    "id": "SRTNfWjswX6S"
   },
   "outputs": [],
   "source": [
    "education_1 = education.dropna()\n",
    "electricity_1 = electricity.dropna()\n",
    "energy_1 = energy.dropna()\n",
    "reserve_1 = reserve.dropna()"
   ]
  },
  {
   "cell_type": "markdown",
   "metadata": {
    "id": "beqCzEoElLai"
   },
   "source": [
    "Detectamos que dos columns tienen leading space"
   ]
  },
  {
   "cell_type": "code",
   "execution_count": 66,
   "metadata": {
    "id": "84sb9I0Yv_5a"
   },
   "outputs": [],
   "source": [
    "electricity_1.columns = electricity_1.columns.str.strip()\n",
    "energy_1.columns = energy_1.columns.str.strip()"
   ]
  },
  {
   "cell_type": "markdown",
   "metadata": {
    "id": "TRQEqWPzYMPN"
   },
   "source": [
    "En caso hubieran duplicados en los países, los eliminamos de la siguiente forma comando"
   ]
  },
  {
   "cell_type": "code",
   "execution_count": 67,
   "metadata": {
    "colab": {
     "base_uri": "https://localhost:8080/",
     "height": 476
    },
    "id": "hFXUus7FYLMk",
    "outputId": "da625b57-170c-4300-e9c5-4dbfd500b4b0"
   },
   "outputs": [
    {
     "data": {
      "text/html": [
       "<div>\n",
       "<style scoped>\n",
       "    .dataframe tbody tr th:only-of-type {\n",
       "        vertical-align: middle;\n",
       "    }\n",
       "\n",
       "    .dataframe tbody tr th {\n",
       "        vertical-align: top;\n",
       "    }\n",
       "\n",
       "    .dataframe thead th {\n",
       "        text-align: right;\n",
       "    }\n",
       "</style>\n",
       "<table border=\"1\" class=\"dataframe\">\n",
       "  <thead>\n",
       "    <tr style=\"text-align: right;\">\n",
       "      <th></th>\n",
       "      <th>name</th>\n",
       "      <th>slug</th>\n",
       "      <th>value</th>\n",
       "      <th>date_of_information</th>\n",
       "      <th>ranking</th>\n",
       "      <th>region</th>\n",
       "    </tr>\n",
       "  </thead>\n",
       "  <tbody>\n",
       "    <tr>\n",
       "      <th>0</th>\n",
       "      <td>China</td>\n",
       "      <td>china</td>\n",
       "      <td>$3,450,000,000,000</td>\n",
       "      <td>2023</td>\n",
       "      <td>1</td>\n",
       "      <td>East and Southeast Asia</td>\n",
       "    </tr>\n",
       "    <tr>\n",
       "      <th>1</th>\n",
       "      <td>Japan</td>\n",
       "      <td>japan</td>\n",
       "      <td>$1,295,000,000,000</td>\n",
       "      <td>2023</td>\n",
       "      <td>2</td>\n",
       "      <td>East and Southeast Asia</td>\n",
       "    </tr>\n",
       "    <tr>\n",
       "      <th>2</th>\n",
       "      <td>Switzerland</td>\n",
       "      <td>switzerland</td>\n",
       "      <td>$863,892,000,000</td>\n",
       "      <td>2023</td>\n",
       "      <td>3</td>\n",
       "      <td>Europe</td>\n",
       "    </tr>\n",
       "    <tr>\n",
       "      <th>3</th>\n",
       "      <td>United States</td>\n",
       "      <td>united-states</td>\n",
       "      <td>$773,426,000,000</td>\n",
       "      <td>2023</td>\n",
       "      <td>4</td>\n",
       "      <td>North America</td>\n",
       "    </tr>\n",
       "    <tr>\n",
       "      <th>4</th>\n",
       "      <td>India</td>\n",
       "      <td>india</td>\n",
       "      <td>$627,793,000,000</td>\n",
       "      <td>2023</td>\n",
       "      <td>5</td>\n",
       "      <td>South Asia</td>\n",
       "    </tr>\n",
       "    <tr>\n",
       "      <th>...</th>\n",
       "      <td>...</td>\n",
       "      <td>...</td>\n",
       "      <td>...</td>\n",
       "      <td>...</td>\n",
       "      <td>...</td>\n",
       "      <td>...</td>\n",
       "    </tr>\n",
       "    <tr>\n",
       "      <th>190</th>\n",
       "      <td>Anguilla</td>\n",
       "      <td>anguilla</td>\n",
       "      <td>$76,380,000</td>\n",
       "      <td>2017</td>\n",
       "      <td>191</td>\n",
       "      <td>Central America and the Caribbean</td>\n",
       "    </tr>\n",
       "    <tr>\n",
       "      <th>191</th>\n",
       "      <td>Burkina Faso</td>\n",
       "      <td>burkina-faso</td>\n",
       "      <td>$49,000,000</td>\n",
       "      <td>2017</td>\n",
       "      <td>192</td>\n",
       "      <td>Africa</td>\n",
       "    </tr>\n",
       "    <tr>\n",
       "      <th>192</th>\n",
       "      <td>Montserrat</td>\n",
       "      <td>montserrat</td>\n",
       "      <td>$47,580,000</td>\n",
       "      <td>2017</td>\n",
       "      <td>193</td>\n",
       "      <td>Central America and the Caribbean</td>\n",
       "    </tr>\n",
       "    <tr>\n",
       "      <th>193</th>\n",
       "      <td>Sao Tome and Principe</td>\n",
       "      <td>sao-tome-and-principe</td>\n",
       "      <td>$46,247,000</td>\n",
       "      <td>2023</td>\n",
       "      <td>194</td>\n",
       "      <td>Africa</td>\n",
       "    </tr>\n",
       "    <tr>\n",
       "      <th>194</th>\n",
       "      <td>Somalia</td>\n",
       "      <td>somalia</td>\n",
       "      <td>$30,450,000</td>\n",
       "      <td>2014</td>\n",
       "      <td>195</td>\n",
       "      <td>Africa</td>\n",
       "    </tr>\n",
       "  </tbody>\n",
       "</table>\n",
       "<p>195 rows × 6 columns</p>\n",
       "</div>"
      ],
      "text/plain": [
       "                      name                   slug               value  \\\n",
       "0                    China                  china  $3,450,000,000,000   \n",
       "1                    Japan                  japan  $1,295,000,000,000   \n",
       "2              Switzerland            switzerland    $863,892,000,000   \n",
       "3            United States          united-states    $773,426,000,000   \n",
       "4                    India                  india    $627,793,000,000   \n",
       "..                     ...                    ...                 ...   \n",
       "190               Anguilla               anguilla         $76,380,000   \n",
       "191           Burkina Faso           burkina-faso         $49,000,000   \n",
       "192             Montserrat             montserrat         $47,580,000   \n",
       "193  Sao Tome and Principe  sao-tome-and-principe         $46,247,000   \n",
       "194                Somalia                somalia         $30,450,000   \n",
       "\n",
       "     date_of_information  ranking                             region  \n",
       "0                   2023        1            East and Southeast Asia  \n",
       "1                   2023        2            East and Southeast Asia  \n",
       "2                   2023        3                             Europe  \n",
       "3                   2023        4                      North America  \n",
       "4                   2023        5                         South Asia  \n",
       "..                   ...      ...                                ...  \n",
       "190                 2017      191  Central America and the Caribbean  \n",
       "191                 2017      192                             Africa  \n",
       "192                 2017      193  Central America and the Caribbean  \n",
       "193                 2023      194                             Africa  \n",
       "194                 2014      195                             Africa  \n",
       "\n",
       "[195 rows x 6 columns]"
      ]
     },
     "execution_count": 67,
     "metadata": {},
     "output_type": "execute_result"
    }
   ],
   "source": [
    "delete_Duplicates = lambda df: df.drop_duplicates(subset=['name'])\n",
    "delete_Duplicates(education_1)\n",
    "delete_Duplicates(electricity_1)\n",
    "delete_Duplicates(energy_1)\n",
    "delete_Duplicates(reserve_1)\n"
   ]
  },
  {
   "cell_type": "markdown",
   "metadata": {
    "id": "hojeHTD_VxJ-"
   },
   "source": [
    "\n",
    "---Primero eliminamos leading, tailing y espacios internos en blanco\n",
    "\n"
   ]
  },
  {
   "cell_type": "code",
   "execution_count": 68,
   "metadata": {
    "id": "ed_Cod0xeFT6"
   },
   "outputs": [],
   "source": [
    "import re\n",
    "clean_column_names = lambda df: df.columns.astype(str).str.strip().str.replace(pat=r'\\s', repl='_', regex=True)\n",
    "\n",
    "education_1.columns = clean_column_names(education_1)\n",
    "electricity_1.columns = clean_column_names(electricity_1)\n",
    "energy_1.columns = clean_column_names(energy_1)\n",
    "reserve_1.columns = clean_column_names(reserve_1)"
   ]
  },
  {
   "cell_type": "markdown",
   "metadata": {
    "id": "Q2Y2mBqzN754"
   },
   "source": [
    "--- Limpiamos las columnas de variables tipo texto. Para ello, primero guardo el nombre de las \"Column names\""
   ]
  },
  {
   "cell_type": "code",
   "execution_count": 69,
   "metadata": {
    "colab": {
     "base_uri": "https://localhost:8080/"
    },
    "id": "5mpu-OlOO8vB",
    "outputId": "7b360091-3a59-41fa-e642-3544759e7ff9"
   },
   "outputs": [
    {
     "data": {
      "text/plain": [
       "['region', 'name', 'slug']"
      ]
     },
     "execution_count": 69,
     "metadata": {},
     "output_type": "execute_result"
    }
   ],
   "source": [
    "common_columns = set(education.columns.intersection(electricity.columns).intersection(energy.columns).intersection(reserve.columns))\n",
    "common_text_columns=common_columns - {\"date_of_information\", \"ranking\"}\n",
    "list_common_text=list(common_text_columns)\n",
    "list_common_text"
   ]
  },
  {
   "cell_type": "code",
   "execution_count": 70,
   "metadata": {
    "colab": {
     "base_uri": "https://localhost:8080/"
    },
    "id": "aqI-8Vcoeyw-",
    "outputId": "b3951c4e-9590-467d-fa89-d3b5962845a5"
   },
   "outputs": [
    {
     "name": "stdout",
     "output_type": "stream",
     "text": [
      "Requirement already satisfied: unidecode in d:\\anaconda\\envs\\dataespacial_311\\lib\\site-packages (1.3.8)\n"
     ]
    }
   ],
   "source": [
    "!pip install unidecode"
   ]
  },
  {
   "cell_type": "markdown",
   "metadata": {
    "id": "iSXwXuzVAW3V"
   },
   "source": [
    "Eliminamos caracteres non_ASCII utilizando unicode"
   ]
  },
  {
   "cell_type": "code",
   "execution_count": 71,
   "metadata": {
    "id": "p25wAG8OfQ2S"
   },
   "outputs": [],
   "source": [
    "from unidecode import unidecode\n",
    "apply_unidecode = lambda col:col.apply(unidecode).str.replace(pat='-', repl='_', regex=True)\n",
    "education_1[list_common_text]=education_1.loc[:, list_common_text].apply(apply_unidecode)\n",
    "electricity_1[list_common_text]=electricity_1.loc[:, list_common_text].apply(apply_unidecode)\n",
    "energy_1[list_common_text]=energy_1.loc[:, list_common_text].apply(apply_unidecode)\n",
    "reserve_1[list_common_text]=reserve_1.loc[:, list_common_text].apply(apply_unidecode)\n",
    "\n",
    "first_group=[\"name\", \"region\"]\n",
    "turn_mayus=lambda col:col.str.upper()\n",
    "education_1[first_group]=education_1.loc[:,first_group ].apply(turn_mayus)\n",
    "electricity_1[first_group]=electricity_1.loc[:,first_group ].apply(turn_mayus)\n",
    "energy_1[first_group]=energy_1.loc[:,first_group ].apply(turn_mayus)\n",
    "reserve_1[first_group]=reserve_1.loc[:, first_group].apply(turn_mayus)\n",
    "\n",
    "\n",
    "\n",
    "\n"
   ]
  },
  {
   "cell_type": "markdown",
   "metadata": {
    "id": "2N7D7iSAeWCw"
   },
   "source": [
    "Limpiamos columnas numéricas\n"
   ]
  },
  {
   "cell_type": "code",
   "execution_count": 72,
   "metadata": {
    "id": "YtpUnCHKJ63b"
   },
   "outputs": [],
   "source": [
    "get_numeric_colums= lambda df:list(set(df.columns)-set(common_text_columns))\n",
    "education_1_numeric=get_numeric_colums(education_1)\n",
    "electricity_1_numeric=get_numeric_colums(electricity_1)\n",
    "energy_1_numeric=get_numeric_colums(energy_1)\n",
    "reserve_1_numeric=get_numeric_colums(reserve_1)\n"
   ]
  },
  {
   "cell_type": "code",
   "execution_count": 73,
   "metadata": {
    "id": "UvKHKhsVFTbC"
   },
   "outputs": [],
   "source": [
    "apply_pd_numeric=lambda col:col.astype(str).str.replace(pat=',|\\$', repl='', regex=True).apply(pd.to_numeric)\n",
    "\n",
    "\n",
    "education_1[education_1_numeric]=education_1.loc[:,education_1_numeric].apply(apply_pd_numeric)\n",
    "electricity_1[electricity_1_numeric]=electricity_1.loc[:,electricity_1_numeric].apply(apply_pd_numeric)\n",
    "energy_1[energy_1_numeric]=energy_1.loc[:,energy_1_numeric].apply(apply_pd_numeric)\n",
    "reserve_1[reserve_1_numeric]=reserve_1.loc[:,reserve_1_numeric].apply(apply_pd_numeric)\n",
    "\n",
    "\n"
   ]
  },
  {
   "cell_type": "markdown",
   "metadata": {
    "id": "9hfyk5mF16st"
   },
   "source": [
    "# APPLYING FUZZY MERGING APPROACH:\n",
    "\n",
    "Se eligió esta estrategia debido a que es la que permite recuperar un número mayor de casos al aplicar el merging."
   ]
  },
  {
   "cell_type": "markdown",
   "metadata": {
    "id": "FuvF-MBPHZpX"
   },
   "source": [
    "1) Eliminamos la columna slug y date_of_information, con el fin de quedarnos solo con las variables principales"
   ]
  },
  {
   "cell_type": "code",
   "execution_count": 74,
   "metadata": {
    "id": "WgojbzSov8jV"
   },
   "outputs": [],
   "source": [
    "delete_date = lambda df: df.drop(columns=['date_of_information']).drop(columns=['ranking']).drop(columns=['slug'])\n",
    "education_1=delete_date(education_1)\n",
    "electricity_1=delete_date(electricity_1)\n",
    "energy_1=delete_date(energy_1)\n",
    "reserve_1=delete_date(reserve_1)"
   ]
  },
  {
   "cell_type": "markdown",
   "metadata": {
    "id": "0DIhQHqRHman"
   },
   "source": [
    "2) Mejorando los nombres de ciertas columnas para diferenciarlas o esclarecer el significado del valor"
   ]
  },
  {
   "cell_type": "code",
   "execution_count": 75,
   "metadata": {
    "id": "EuenRD0AH13v"
   },
   "outputs": [],
   "source": [
    "education_1 = education_1.rename(columns={'%_of_GDP':'education_expenditure(%GDP)'})\n",
    "electricity_1 = electricity_1.rename(columns={'kW':'power_generation(kW)'})\n",
    "energy_1 = energy_1.rename(columns={'Btu/person':'Btu/person_consumption($)'})\n",
    "reserve_1 = reserve_1.rename(columns={'value':'financial_assets_value($)'})\n"
   ]
  },
  {
   "cell_type": "markdown",
   "metadata": {
    "id": "vTJ3zUKMJoi2"
   },
   "source": [
    "3) Empezamos a hacer merge a education_1 y electricity_1"
   ]
  },
  {
   "cell_type": "markdown",
   "metadata": {
    "id": "V4-naRgCLKw0"
   },
   "source": [
    "3.1) Visualizamos que países se encuentran en únicamente en el primer o el segundo dataframe"
   ]
  },
  {
   "cell_type": "code",
   "execution_count": 76,
   "metadata": {
    "colab": {
     "base_uri": "https://localhost:8080/"
    },
    "id": "2HdXo-A8LKjG",
    "outputId": "be47d815-5ab7-48d9-975f-e8fd8be8212a"
   },
   "outputs": [
    {
     "data": {
      "text/plain": [
       "{'ANDORRA',\n",
       " 'ANGUILLA',\n",
       " 'CURACAO',\n",
       " 'LIECHTENSTEIN',\n",
       " 'MARSHALL ISLANDS',\n",
       " 'MICRONESIA, FEDERATED STATES OF',\n",
       " 'MONACO',\n",
       " 'PALAU',\n",
       " 'SAN MARINO'}"
      ]
     },
     "execution_count": 76,
     "metadata": {},
     "output_type": "execute_result"
    }
   ],
   "source": [
    "only_education=set(education_1.name)-set(electricity_1.name)\n",
    "only_education"
   ]
  },
  {
   "cell_type": "code",
   "execution_count": 77,
   "metadata": {
    "colab": {
     "base_uri": "https://localhost:8080/"
    },
    "id": "ABpRF60XOaNz",
    "outputId": "3eb44766-a0ff-4843-f929-a1598bec4d47"
   },
   "outputs": [
    {
     "data": {
      "text/plain": [
       "{'AMERICAN SAMOA',\n",
       " 'BOSNIA AND HERZEGOVINA',\n",
       " 'CUBA',\n",
       " 'EQUATORIAL GUINEA',\n",
       " 'ERITREA',\n",
       " 'FALKLAND ISLANDS (ISLAS MALVINAS)',\n",
       " 'FRENCH POLYNESIA',\n",
       " 'GIBRALTAR',\n",
       " 'GUAM',\n",
       " 'KOREA, NORTH',\n",
       " 'KOSOVO',\n",
       " 'LIBYA',\n",
       " 'MONTENEGRO',\n",
       " 'NEW CALEDONIA',\n",
       " 'NIUE',\n",
       " 'NORTH MACEDONIA',\n",
       " 'SAINT HELENA, ASCENSION, AND TRISTAN DA CUNHA',\n",
       " 'SAINT PIERRE AND MIQUELON',\n",
       " 'SUDAN',\n",
       " 'SYRIA',\n",
       " 'TAIWAN',\n",
       " 'VIRGIN ISLANDS',\n",
       " 'YEMEN'}"
      ]
     },
     "execution_count": 77,
     "metadata": {},
     "output_type": "execute_result"
    }
   ],
   "source": [
    "only_electricity=set(electricity_1.name)-set(education_1.name)\n",
    "only_electricity"
   ]
  },
  {
   "cell_type": "markdown",
   "metadata": {
    "id": "jfOzbbmxUj7l"
   },
   "source": [
    "3.2) Aplicamos el enfoque thefuzz para ver posibles pares de países que sean compatibles"
   ]
  },
  {
   "cell_type": "code",
   "execution_count": 78,
   "metadata": {
    "colab": {
     "base_uri": "https://localhost:8080/"
    },
    "id": "HOh9zTcMP0-s",
    "outputId": "e0fe73d0-f75a-49dc-f90f-14871f0f4035"
   },
   "outputs": [
    {
     "name": "stdout",
     "output_type": "stream",
     "text": [
      "Requirement already satisfied: thefuzz in d:\\anaconda\\envs\\dataespacial_311\\lib\\site-packages (0.22.1)\n",
      "Requirement already satisfied: rapidfuzz<4.0.0,>=3.0.0 in d:\\anaconda\\envs\\dataespacial_311\\lib\\site-packages (from thefuzz) (3.13.0)\n"
     ]
    }
   ],
   "source": [
    "!pip install thefuzz"
   ]
  },
  {
   "cell_type": "code",
   "execution_count": 79,
   "metadata": {
    "colab": {
     "base_uri": "https://localhost:8080/"
    },
    "id": "88r0cQGLQasB",
    "outputId": "ffbf8f6f-0c33-41be-d860-04596212a991"
   },
   "outputs": [
    {
     "data": {
      "text/plain": [
       "[('AMERICAN SAMOA', ('MONACO', 60)),\n",
       " ('BOSNIA AND HERZEGOVINA', ('ANDORRA', 53)),\n",
       " ('CUBA', ('CURACAO', 68)),\n",
       " ('EQUATORIAL GUINEA', ('PALAU', 54)),\n",
       " ('ERITREA', ('MICRONESIA, FEDERATED STATES OF', 51)),\n",
       " ('FALKLAND ISLANDS (ISLAS MALVINAS)', ('MARSHALL ISLANDS', 86)),\n",
       " ('FRENCH POLYNESIA', ('MICRONESIA, FEDERATED STATES OF', 48)),\n",
       " ('GIBRALTAR', ('PALAU', 54)),\n",
       " ('GUAM', ('ANGUILLA', 50)),\n",
       " ('KOREA, NORTH', ('ANDORRA', 51)),\n",
       " ('KOSOVO', ('MICRONESIA, FEDERATED STATES OF', 36)),\n",
       " ('LIBYA', ('ANGUILLA', 51)),\n",
       " ('MONTENEGRO', ('MONACO', 60)),\n",
       " ('NEW CALEDONIA', ('MONACO', 54)),\n",
       " ('NIUE', ('LIECHTENSTEIN', 51)),\n",
       " ('NORTH MACEDONIA', ('MONACO', 60)),\n",
       " ('SAINT HELENA, ASCENSION, AND TRISTAN DA CUNHA', ('ANDORRA', 57)),\n",
       " ('SAINT PIERRE AND MIQUELON', ('SAN MARINO', 51)),\n",
       " ('SUDAN', ('SAN MARINO', 68)),\n",
       " ('SYRIA', ('MICRONESIA, FEDERATED STATES OF', 54)),\n",
       " ('TAIWAN', ('LIECHTENSTEIN', 54)),\n",
       " ('VIRGIN ISLANDS', ('MARSHALL ISLANDS', 63)),\n",
       " ('YEMEN', ('LIECHTENSTEIN', 45))]"
      ]
     },
     "execution_count": 79,
     "metadata": {},
     "output_type": "execute_result"
    }
   ],
   "source": [
    "from thefuzz import process as fz\n",
    "[(c,fz.extractOne(c,only_education )) for c in sorted(only_electricity)]"
   ]
  },
  {
   "cell_type": "markdown",
   "metadata": {
    "id": "ZMqrUXbYTF6m"
   },
   "source": [
    "3.3)Dado que el máximo porcentaje de similitud en realidad no corresponde a nombres compatibles y que no se visualiza ningún otro caso compatible, se verificará en la otra dirección sin recuperar ninguno"
   ]
  },
  {
   "cell_type": "code",
   "execution_count": 80,
   "metadata": {
    "colab": {
     "base_uri": "https://localhost:8080/"
    },
    "id": "PSLHUN3yTLhO",
    "outputId": "8e5cc939-f495-4202-b65c-3c23e7f4c58d"
   },
   "outputs": [
    {
     "data": {
      "text/plain": [
       "[('ANDORRA', ('SAINT HELENA, ASCENSION, AND TRISTAN DA CUNHA', 57)),\n",
       " ('ANGUILLA', ('FALKLAND ISLANDS (ISLAS MALVINAS)', 56)),\n",
       " ('CURACAO', ('CUBA', 68)),\n",
       " ('LIECHTENSTEIN', ('TAIWAN', 54)),\n",
       " ('MARSHALL ISLANDS', ('FALKLAND ISLANDS (ISLAS MALVINAS)', 86)),\n",
       " ('MICRONESIA, FEDERATED STATES OF', ('SYRIA', 54)),\n",
       " ('MONACO', ('AMERICAN SAMOA', 60)),\n",
       " ('PALAU', ('EQUATORIAL GUINEA', 54)),\n",
       " ('SAN MARINO', ('SUDAN', 68))]"
      ]
     },
     "execution_count": 80,
     "metadata": {},
     "output_type": "execute_result"
    }
   ],
   "source": [
    "[(c,fz.extractOne(c,only_electricity )) for c in sorted(only_education)]"
   ]
  },
  {
   "cell_type": "markdown",
   "metadata": {
    "id": "2Ad77JolT_09"
   },
   "source": [
    "En ninguno de los dos casos hay paises compatibles"
   ]
  },
  {
   "cell_type": "markdown",
   "metadata": {
    "id": "sBLiUIpMUbTM"
   },
   "source": [
    "3.4)Eliminaremos todos esas filas, debido a que no se tendría información completa para ninguno de esos casos\n"
   ]
  },
  {
   "cell_type": "code",
   "execution_count": 81,
   "metadata": {
    "id": "87Wp9t9QT_j9"
   },
   "outputs": [],
   "source": [
    "only_education = list(only_education)\n",
    "only_electricity = list(only_electricity)\n",
    "education_2 = education_1[~education_1['name'].isin(only_education)]\n",
    "electricity_2 = electricity_1[~electricity_1['name'].isin(only_electricity)]"
   ]
  },
  {
   "cell_type": "markdown",
   "metadata": {
    "id": "UE4DzIRvWi6L"
   },
   "source": [
    "3.5) Dado que ahora ambos tienen las mismas filas, aplicaremos merging left join. Se puede elegir, cualquiera de los otros 3 tipos: inner join, right join, outer join."
   ]
  },
  {
   "cell_type": "code",
   "execution_count": 82,
   "metadata": {
    "colab": {
     "base_uri": "https://localhost:8080/",
     "height": 424
    },
    "id": "Te6l8EGaWhsD",
    "outputId": "7c7a1165-47c0-446b-8d1e-7aa885f90566"
   },
   "outputs": [
    {
     "data": {
      "text/html": [
       "<div>\n",
       "<style scoped>\n",
       "    .dataframe tbody tr th:only-of-type {\n",
       "        vertical-align: middle;\n",
       "    }\n",
       "\n",
       "    .dataframe tbody tr th {\n",
       "        vertical-align: top;\n",
       "    }\n",
       "\n",
       "    .dataframe thead th {\n",
       "        text-align: right;\n",
       "    }\n",
       "</style>\n",
       "<table border=\"1\" class=\"dataframe\">\n",
       "  <thead>\n",
       "    <tr style=\"text-align: right;\">\n",
       "      <th></th>\n",
       "      <th>name</th>\n",
       "      <th>education_expenditure(%GDP)</th>\n",
       "      <th>region_x</th>\n",
       "      <th>power_generation(kW)</th>\n",
       "    </tr>\n",
       "  </thead>\n",
       "  <tbody>\n",
       "    <tr>\n",
       "      <th>0</th>\n",
       "      <td>SOLOMON ISLANDS</td>\n",
       "      <td>12.8</td>\n",
       "      <td>AUSTRALIA AND OCEANIA</td>\n",
       "      <td>37000</td>\n",
       "    </tr>\n",
       "    <tr>\n",
       "      <th>1</th>\n",
       "      <td>KIRIBATI</td>\n",
       "      <td>12.4</td>\n",
       "      <td>AUSTRALIA AND OCEANIA</td>\n",
       "      <td>12000</td>\n",
       "    </tr>\n",
       "    <tr>\n",
       "      <th>2</th>\n",
       "      <td>GREENLAND</td>\n",
       "      <td>10.2</td>\n",
       "      <td>NORTH AMERICA</td>\n",
       "      <td>190000</td>\n",
       "    </tr>\n",
       "    <tr>\n",
       "      <th>3</th>\n",
       "      <td>BOLIVIA</td>\n",
       "      <td>9.8</td>\n",
       "      <td>SOUTH AMERICA</td>\n",
       "      <td>4375000</td>\n",
       "    </tr>\n",
       "    <tr>\n",
       "      <th>4</th>\n",
       "      <td>NAMIBIA</td>\n",
       "      <td>9.6</td>\n",
       "      <td>AFRICA</td>\n",
       "      <td>646000</td>\n",
       "    </tr>\n",
       "    <tr>\n",
       "      <th>...</th>\n",
       "      <td>...</td>\n",
       "      <td>...</td>\n",
       "      <td>...</td>\n",
       "      <td>...</td>\n",
       "    </tr>\n",
       "    <tr>\n",
       "      <th>183</th>\n",
       "      <td>HAITI</td>\n",
       "      <td>1.4</td>\n",
       "      <td>CENTRAL AMERICA AND THE CARIBBEAN</td>\n",
       "      <td>472000</td>\n",
       "    </tr>\n",
       "    <tr>\n",
       "      <th>184</th>\n",
       "      <td>PAPUA NEW GUINEA</td>\n",
       "      <td>1.4</td>\n",
       "      <td>EAST AND SOUTHEAST ASIA</td>\n",
       "      <td>1148000</td>\n",
       "    </tr>\n",
       "    <tr>\n",
       "      <th>185</th>\n",
       "      <td>VENEZUELA</td>\n",
       "      <td>1.3</td>\n",
       "      <td>SOUTH AMERICA</td>\n",
       "      <td>33493000</td>\n",
       "    </tr>\n",
       "    <tr>\n",
       "      <th>186</th>\n",
       "      <td>NIGERIA</td>\n",
       "      <td>0.5</td>\n",
       "      <td>AFRICA</td>\n",
       "      <td>4094000</td>\n",
       "    </tr>\n",
       "    <tr>\n",
       "      <th>187</th>\n",
       "      <td>SOMALIA</td>\n",
       "      <td>0.3</td>\n",
       "      <td>AFRICA</td>\n",
       "      <td>156000</td>\n",
       "    </tr>\n",
       "  </tbody>\n",
       "</table>\n",
       "<p>188 rows × 4 columns</p>\n",
       "</div>"
      ],
      "text/plain": [
       "                 name  education_expenditure(%GDP)  \\\n",
       "0     SOLOMON ISLANDS                         12.8   \n",
       "1            KIRIBATI                         12.4   \n",
       "2           GREENLAND                         10.2   \n",
       "3             BOLIVIA                          9.8   \n",
       "4             NAMIBIA                          9.6   \n",
       "..                ...                          ...   \n",
       "183             HAITI                          1.4   \n",
       "184  PAPUA NEW GUINEA                          1.4   \n",
       "185         VENEZUELA                          1.3   \n",
       "186           NIGERIA                          0.5   \n",
       "187           SOMALIA                          0.3   \n",
       "\n",
       "                              region_x  power_generation(kW)  \n",
       "0                AUSTRALIA AND OCEANIA                 37000  \n",
       "1                AUSTRALIA AND OCEANIA                 12000  \n",
       "2                        NORTH AMERICA                190000  \n",
       "3                        SOUTH AMERICA               4375000  \n",
       "4                               AFRICA                646000  \n",
       "..                                 ...                   ...  \n",
       "183  CENTRAL AMERICA AND THE CARIBBEAN                472000  \n",
       "184            EAST AND SOUTHEAST ASIA               1148000  \n",
       "185                      SOUTH AMERICA              33493000  \n",
       "186                             AFRICA               4094000  \n",
       "187                             AFRICA                156000  \n",
       "\n",
       "[188 rows x 4 columns]"
      ]
     },
     "execution_count": 82,
     "metadata": {},
     "output_type": "execute_result"
    }
   ],
   "source": [
    "first_merge=education_2.merge(electricity_2, how='left', left_on='name', right_on='name')\n",
    "first_merge=first_merge.drop(columns=['region_y'])\n",
    "first_merge"
   ]
  },
  {
   "cell_type": "markdown",
   "metadata": {
    "id": "g-lEkiO2YETz"
   },
   "source": [
    "4) Continuamos con merge entre energy y reserve\n"
   ]
  },
  {
   "cell_type": "markdown",
   "metadata": {
    "id": "_cuOf4jNYQhR"
   },
   "source": [
    "4.1) Visualizamos que países se encuentran en únicamente en el primer o el segundo dataframe\n"
   ]
  },
  {
   "cell_type": "code",
   "execution_count": 83,
   "metadata": {
    "colab": {
     "base_uri": "https://localhost:8080/"
    },
    "id": "vOz2zJApYM5R",
    "outputId": "25519301-aa30-4286-f5a0-63b452198333"
   },
   "outputs": [
    {
     "data": {
      "text/plain": [
       "{'AMERICAN SAMOA',\n",
       " 'BERMUDA',\n",
       " 'BRITISH VIRGIN ISLANDS',\n",
       " 'GUAM',\n",
       " 'KIRIBATI',\n",
       " 'KOREA, NORTH',\n",
       " 'PUERTO RICO'}"
      ]
     },
     "execution_count": 83,
     "metadata": {},
     "output_type": "execute_result"
    }
   ],
   "source": [
    "only_energy=set(energy_1.name)-set(reserve_1.name)\n",
    "only_energy"
   ]
  },
  {
   "cell_type": "code",
   "execution_count": 84,
   "metadata": {
    "colab": {
     "base_uri": "https://localhost:8080/"
    },
    "id": "jH-V6XCcY79J",
    "outputId": "25fd6110-7a22-4af4-b571-c240b52bcd81"
   },
   "outputs": [
    {
     "data": {
      "text/plain": [
       "{'ANGUILLA',\n",
       " 'ICELAND',\n",
       " 'MICRONESIA, FEDERATED STATES OF',\n",
       " 'MONTSERRAT',\n",
       " 'PALAU',\n",
       " 'SAN MARINO',\n",
       " 'TRINIDAD AND TOBAGO'}"
      ]
     },
     "execution_count": 84,
     "metadata": {},
     "output_type": "execute_result"
    }
   ],
   "source": [
    "only_reserve=set(reserve_1.name)-set(energy_1.name)\n",
    "only_reserve"
   ]
  },
  {
   "cell_type": "markdown",
   "metadata": {
    "id": "AeJrmefHZV-Y"
   },
   "source": [
    "4.2) Aplicamos el enfoque thefuzz para ver posibles pares de países que sean compatibles\n",
    "\n",
    "\n",
    "\n"
   ]
  },
  {
   "cell_type": "code",
   "execution_count": 85,
   "metadata": {
    "colab": {
     "base_uri": "https://localhost:8080/"
    },
    "id": "yBPBjtnyZSmR",
    "outputId": "99694787-5347-42b5-9508-2d48f13277e8"
   },
   "outputs": [
    {
     "data": {
      "text/plain": [
       "[('ANGUILLA', ('GUAM', 50)),\n",
       " ('ICELAND', ('BRITISH VIRGIN ISLANDS', 64)),\n",
       " ('MICRONESIA, FEDERATED STATES OF', ('PUERTO RICO', 47)),\n",
       " ('MONTSERRAT', ('KOREA, NORTH', 36)),\n",
       " ('PALAU', ('PUERTO RICO', 51)),\n",
       " ('SAN MARINO', ('AMERICAN SAMOA', 55)),\n",
       " ('TRINIDAD AND TOBAGO', ('KIRIBATI', 43))]"
      ]
     },
     "execution_count": 85,
     "metadata": {},
     "output_type": "execute_result"
    }
   ],
   "source": [
    "[(c,fz.extractOne(c,only_energy )) for c in sorted(only_reserve)]"
   ]
  },
  {
   "cell_type": "markdown",
   "metadata": {
    "id": "POK9HzZUZjE5"
   },
   "source": [
    "4.3) Dado que el máximo porcentaje de similitud en realidad no corresponde a nombres compatibles y que no se visualiza ningún otro caso compatible, se verificará en la otra dirección sin recuperar ninguno"
   ]
  },
  {
   "cell_type": "code",
   "execution_count": 86,
   "metadata": {
    "colab": {
     "base_uri": "https://localhost:8080/"
    },
    "id": "cor_5wuzaD4o",
    "outputId": "223f166f-67a9-4418-c6a4-77c6ee1f2d6c"
   },
   "outputs": [
    {
     "data": {
      "text/plain": [
       "[('AMERICAN SAMOA', ('SAN MARINO', 55)),\n",
       " ('BERMUDA', ('MICRONESIA, FEDERATED STATES OF', 39)),\n",
       " ('BRITISH VIRGIN ISLANDS', ('ICELAND', 64)),\n",
       " ('GUAM', ('ANGUILLA', 50)),\n",
       " ('KIRIBATI', ('TRINIDAD AND TOBAGO', 43)),\n",
       " ('KOREA, NORTH', ('MICRONESIA, FEDERATED STATES OF', 39)),\n",
       " ('PUERTO RICO', ('PALAU', 51))]"
      ]
     },
     "execution_count": 86,
     "metadata": {},
     "output_type": "execute_result"
    }
   ],
   "source": [
    "[(c,fz.extractOne(c,only_reserve )) for c in sorted(only_energy)]"
   ]
  },
  {
   "cell_type": "markdown",
   "metadata": {
    "id": "O0rnvYhgaZ6_"
   },
   "source": [
    "4.4) En ambos casos no existe un par compatible, por lo que se procesderá a borrar todas esas filas de only_energy y only_reserve"
   ]
  },
  {
   "cell_type": "code",
   "execution_count": 87,
   "metadata": {
    "id": "rCw102yQaYZo"
   },
   "outputs": [],
   "source": [
    "only_energy = list(only_energy)\n",
    "only_reserve = list(only_reserve)\n",
    "energy_2 = energy_1[~energy_1['name'].isin(only_energy)]\n",
    "reserve_2 = reserve_1[~reserve_1['name'].isin(only_reserve)]\n"
   ]
  },
  {
   "cell_type": "code",
   "execution_count": 88,
   "metadata": {
    "colab": {
     "base_uri": "https://localhost:8080/",
     "height": 476
    },
    "id": "dCC5fQYabX2v",
    "outputId": "e96f8a0c-583e-4b58-9cd5-89fcfce0e34c"
   },
   "outputs": [
    {
     "data": {
      "text/html": [
       "<div>\n",
       "<style scoped>\n",
       "    .dataframe tbody tr th:only-of-type {\n",
       "        vertical-align: middle;\n",
       "    }\n",
       "\n",
       "    .dataframe tbody tr th {\n",
       "        vertical-align: top;\n",
       "    }\n",
       "\n",
       "    .dataframe thead th {\n",
       "        text-align: right;\n",
       "    }\n",
       "</style>\n",
       "<table border=\"1\" class=\"dataframe\">\n",
       "  <thead>\n",
       "    <tr style=\"text-align: right;\">\n",
       "      <th></th>\n",
       "      <th>name</th>\n",
       "      <th>Btu/person_consumption($)</th>\n",
       "      <th>region_x</th>\n",
       "      <th>financial_assets_value($)</th>\n",
       "    </tr>\n",
       "  </thead>\n",
       "  <tbody>\n",
       "    <tr>\n",
       "      <th>0</th>\n",
       "      <td>QATAR</td>\n",
       "      <td>814308000</td>\n",
       "      <td>MIDDLE EAST</td>\n",
       "      <td>51539000000</td>\n",
       "    </tr>\n",
       "    <tr>\n",
       "      <th>1</th>\n",
       "      <td>SINGAPORE</td>\n",
       "      <td>643259000</td>\n",
       "      <td>EAST AND SOUTHEAST ASIA</td>\n",
       "      <td>359835000000</td>\n",
       "    </tr>\n",
       "    <tr>\n",
       "      <th>2</th>\n",
       "      <td>BAHRAIN</td>\n",
       "      <td>554202000</td>\n",
       "      <td>MIDDLE EAST</td>\n",
       "      <td>5118000000</td>\n",
       "    </tr>\n",
       "    <tr>\n",
       "      <th>3</th>\n",
       "      <td>UNITED ARAB EMIRATES</td>\n",
       "      <td>450432000</td>\n",
       "      <td>MIDDLE EAST</td>\n",
       "      <td>189491000000</td>\n",
       "    </tr>\n",
       "    <tr>\n",
       "      <th>4</th>\n",
       "      <td>BRUNEI</td>\n",
       "      <td>403365000</td>\n",
       "      <td>EAST AND SOUTHEAST ASIA</td>\n",
       "      <td>4483000000</td>\n",
       "    </tr>\n",
       "    <tr>\n",
       "      <th>...</th>\n",
       "      <td>...</td>\n",
       "      <td>...</td>\n",
       "      <td>...</td>\n",
       "      <td>...</td>\n",
       "    </tr>\n",
       "    <tr>\n",
       "      <th>183</th>\n",
       "      <td>CHAD</td>\n",
       "      <td>1502000</td>\n",
       "      <td>AFRICA</td>\n",
       "      <td>211591000</td>\n",
       "    </tr>\n",
       "    <tr>\n",
       "      <th>184</th>\n",
       "      <td>CONGO, DEMOCRATIC REPUBLIC OF THE</td>\n",
       "      <td>1305000</td>\n",
       "      <td>AFRICA</td>\n",
       "      <td>5104000000</td>\n",
       "    </tr>\n",
       "    <tr>\n",
       "      <th>185</th>\n",
       "      <td>CENTRAL AFRICAN REPUBLIC</td>\n",
       "      <td>954000</td>\n",
       "      <td>AFRICA</td>\n",
       "      <td>374405000</td>\n",
       "    </tr>\n",
       "    <tr>\n",
       "      <th>186</th>\n",
       "      <td>BURUNDI</td>\n",
       "      <td>946000</td>\n",
       "      <td>AFRICA</td>\n",
       "      <td>90350000</td>\n",
       "    </tr>\n",
       "    <tr>\n",
       "      <th>187</th>\n",
       "      <td>SOMALIA</td>\n",
       "      <td>649000</td>\n",
       "      <td>AFRICA</td>\n",
       "      <td>30450000</td>\n",
       "    </tr>\n",
       "  </tbody>\n",
       "</table>\n",
       "<p>188 rows × 4 columns</p>\n",
       "</div>"
      ],
      "text/plain": [
       "                                  name  Btu/person_consumption($)  \\\n",
       "0                                QATAR                  814308000   \n",
       "1                            SINGAPORE                  643259000   \n",
       "2                              BAHRAIN                  554202000   \n",
       "3                 UNITED ARAB EMIRATES                  450432000   \n",
       "4                               BRUNEI                  403365000   \n",
       "..                                 ...                        ...   \n",
       "183                               CHAD                    1502000   \n",
       "184  CONGO, DEMOCRATIC REPUBLIC OF THE                    1305000   \n",
       "185           CENTRAL AFRICAN REPUBLIC                     954000   \n",
       "186                            BURUNDI                     946000   \n",
       "187                            SOMALIA                     649000   \n",
       "\n",
       "                    region_x  financial_assets_value($)  \n",
       "0                MIDDLE EAST                51539000000  \n",
       "1    EAST AND SOUTHEAST ASIA               359835000000  \n",
       "2                MIDDLE EAST                 5118000000  \n",
       "3                MIDDLE EAST               189491000000  \n",
       "4    EAST AND SOUTHEAST ASIA                 4483000000  \n",
       "..                       ...                        ...  \n",
       "183                   AFRICA                  211591000  \n",
       "184                   AFRICA                 5104000000  \n",
       "185                   AFRICA                  374405000  \n",
       "186                   AFRICA                   90350000  \n",
       "187                   AFRICA                   30450000  \n",
       "\n",
       "[188 rows x 4 columns]"
      ]
     },
     "execution_count": 88,
     "metadata": {},
     "output_type": "execute_result"
    }
   ],
   "source": [
    "second_merge=energy_2.merge(reserve_2, how='left', left_on='name', right_on='name')\n",
    "second_merge=second_merge.drop(columns=['region_y'])\n",
    "second_merge"
   ]
  },
  {
   "cell_type": "markdown",
   "metadata": {
    "id": "SK6O2FN1blFY"
   },
   "source": [
    "5) Finalmente, aplicamos merge para second_merge y first_merge"
   ]
  },
  {
   "cell_type": "markdown",
   "metadata": {
    "id": "r-HByg7qcCeG"
   },
   "source": [
    "5.1) Visualizamos que países se encuentran en únicamente en el primer o el segundo dataframe\n"
   ]
  },
  {
   "cell_type": "code",
   "execution_count": 89,
   "metadata": {
    "colab": {
     "base_uri": "https://localhost:8080/"
    },
    "id": "ozz3fiZQbufe",
    "outputId": "3c6ebd71-a0e9-4b4a-d915-d1507304470e"
   },
   "outputs": [
    {
     "data": {
      "text/plain": [
       "{'BERMUDA',\n",
       " 'BRITISH VIRGIN ISLANDS',\n",
       " 'COOK ISLANDS',\n",
       " 'FAROE ISLANDS',\n",
       " 'GREENLAND',\n",
       " 'ICELAND',\n",
       " 'KIRIBATI',\n",
       " 'MONTSERRAT',\n",
       " 'NAURU',\n",
       " 'PUERTO RICO',\n",
       " 'TRINIDAD AND TOBAGO',\n",
       " 'TURKS AND CAICOS ISLANDS'}"
      ]
     },
     "execution_count": 89,
     "metadata": {},
     "output_type": "execute_result"
    }
   ],
   "source": [
    "only_first=set(first_merge.name)-set(second_merge.name)\n",
    "only_first"
   ]
  },
  {
   "cell_type": "code",
   "execution_count": 90,
   "metadata": {
    "colab": {
     "base_uri": "https://localhost:8080/"
    },
    "id": "V8vypF7ub-Tv",
    "outputId": "ce1ce7fb-1e5b-46aa-b7c3-c07fa675a33c"
   },
   "outputs": [
    {
     "data": {
      "text/plain": [
       "{'BOSNIA AND HERZEGOVINA',\n",
       " 'CUBA',\n",
       " 'EQUATORIAL GUINEA',\n",
       " 'ERITREA',\n",
       " 'KOSOVO',\n",
       " 'LIBYA',\n",
       " 'MONTENEGRO',\n",
       " 'NORTH MACEDONIA',\n",
       " 'SUDAN',\n",
       " 'SYRIA',\n",
       " 'TAIWAN',\n",
       " 'YEMEN'}"
      ]
     },
     "execution_count": 90,
     "metadata": {},
     "output_type": "execute_result"
    }
   ],
   "source": [
    "only_second=set(second_merge.name)-set(first_merge.name)\n",
    "only_second"
   ]
  },
  {
   "cell_type": "markdown",
   "metadata": {
    "id": "WgBXYE1Ydy1N"
   },
   "source": [
    "5.2) Aplicamos el enfoque thefuzz para ver posibles pares de países que sean compatibles\n",
    "\n"
   ]
  },
  {
   "cell_type": "code",
   "execution_count": 91,
   "metadata": {
    "colab": {
     "base_uri": "https://localhost:8080/"
    },
    "id": "Si36ORgacXxX",
    "outputId": "086bf26d-c81c-4107-8c01-9fc1249cfd36"
   },
   "outputs": [
    {
     "data": {
      "text/plain": [
       "[('BOSNIA AND HERZEGOVINA', ('ICELAND', 51)),\n",
       " ('CUBA', ('BERMUDA', 51)),\n",
       " ('EQUATORIAL GUINEA', ('BERMUDA', 49)),\n",
       " ('ERITREA', ('PUERTO RICO', 51)),\n",
       " ('KOSOVO', ('TURKS AND CAICOS ISLANDS', 43)),\n",
       " ('LIBYA', ('KIRIBATI', 54)),\n",
       " ('MONTENEGRO', ('MONTSERRAT', 60)),\n",
       " ('NORTH MACEDONIA', ('NAURU', 45)),\n",
       " ('SUDAN', ('TRINIDAD AND TOBAGO', 54)),\n",
       " ('SYRIA', ('MONTSERRAT', 54)),\n",
       " ('TAIWAN', ('TRINIDAD AND TOBAGO', 54)),\n",
       " ('YEMEN', ('GREENLAND', 54))]"
      ]
     },
     "execution_count": 91,
     "metadata": {},
     "output_type": "execute_result"
    }
   ],
   "source": [
    "[(c,fz.extractOne(c,only_first )) for c in sorted(only_second)]"
   ]
  },
  {
   "cell_type": "markdown",
   "metadata": {
    "id": "9wyl5EDoeC5l"
   },
   "source": [
    "5.3) Dado que el máximo porcentaje de similitud en realidad no corresponde a nombres compatibles y que no se visualiza ningún otro caso compatible, se verificará en la otra dirección sin recuperar ninguno"
   ]
  },
  {
   "cell_type": "code",
   "execution_count": 92,
   "metadata": {
    "colab": {
     "base_uri": "https://localhost:8080/"
    },
    "id": "60sO2m9VchIO",
    "outputId": "81beb857-f85f-46c4-ce63-a90e4af6a2ea"
   },
   "outputs": [
    {
     "data": {
      "text/plain": [
       "[('BERMUDA', ('CUBA', 51)),\n",
       " ('BRITISH VIRGIN ISLANDS', ('SUDAN', 54)),\n",
       " ('COOK ISLANDS', ('SUDAN', 54)),\n",
       " ('FAROE ISLANDS', ('SUDAN', 54)),\n",
       " ('GREENLAND', ('YEMEN', 54)),\n",
       " ('ICELAND', ('BOSNIA AND HERZEGOVINA', 51)),\n",
       " ('KIRIBATI', ('SYRIA', 54)),\n",
       " ('MONTSERRAT', ('MONTENEGRO', 60)),\n",
       " ('NAURU', ('BOSNIA AND HERZEGOVINA', 51)),\n",
       " ('PUERTO RICO', ('ERITREA', 51)),\n",
       " ('TRINIDAD AND TOBAGO', ('TAIWAN', 54)),\n",
       " ('TURKS AND CAICOS ISLANDS', ('SUDAN', 54))]"
      ]
     },
     "execution_count": 92,
     "metadata": {},
     "output_type": "execute_result"
    }
   ],
   "source": [
    "[(c,fz.extractOne(c,only_second )) for c in sorted(only_first)]"
   ]
  },
  {
   "cell_type": "markdown",
   "metadata": {
    "id": "ZvaUZS8_ZorQ"
   },
   "source": [
    "5.4) En ambos casos no existe un par compatible, por lo que se procesderá a borrar todas esas filas de first and second merge"
   ]
  },
  {
   "cell_type": "code",
   "execution_count": 93,
   "metadata": {
    "id": "OmYjkd0KjzfB"
   },
   "outputs": [],
   "source": [
    "only_first = list(only_first)\n",
    "only_second = list(only_second)\n",
    "first_merge = first_merge[~first_merge['name'].isin(only_first)]\n",
    "# Filter the second_merge DataFrame using the boolean Series\n",
    "second_merge = second_merge[~second_merge['name'].isin(only_second)]"
   ]
  },
  {
   "cell_type": "code",
   "execution_count": 94,
   "metadata": {
    "colab": {
     "base_uri": "https://localhost:8080/",
     "height": 669
    },
    "id": "DXF7YlhOeW-d",
    "outputId": "5af8691e-36e3-4769-a125-88af37639a88"
   },
   "outputs": [
    {
     "data": {
      "text/html": [
       "<div>\n",
       "<style scoped>\n",
       "    .dataframe tbody tr th:only-of-type {\n",
       "        vertical-align: middle;\n",
       "    }\n",
       "\n",
       "    .dataframe tbody tr th {\n",
       "        vertical-align: top;\n",
       "    }\n",
       "\n",
       "    .dataframe thead th {\n",
       "        text-align: right;\n",
       "    }\n",
       "</style>\n",
       "<table border=\"1\" class=\"dataframe\">\n",
       "  <thead>\n",
       "    <tr style=\"text-align: right;\">\n",
       "      <th></th>\n",
       "      <th>name</th>\n",
       "      <th>education_expenditure(%GDP)</th>\n",
       "      <th>region_x_x</th>\n",
       "      <th>power_generation(kW)</th>\n",
       "      <th>Btu/person_consumption($)</th>\n",
       "      <th>financial_assets_value($)</th>\n",
       "    </tr>\n",
       "  </thead>\n",
       "  <tbody>\n",
       "    <tr>\n",
       "      <th>0</th>\n",
       "      <td>SOLOMON ISLANDS</td>\n",
       "      <td>12.8</td>\n",
       "      <td>AUSTRALIA AND OCEANIA</td>\n",
       "      <td>37000</td>\n",
       "      <td>5655000</td>\n",
       "      <td>688220000</td>\n",
       "    </tr>\n",
       "    <tr>\n",
       "      <th>1</th>\n",
       "      <td>BOLIVIA</td>\n",
       "      <td>9.8</td>\n",
       "      <td>SOUTH AMERICA</td>\n",
       "      <td>4375000</td>\n",
       "      <td>29340000</td>\n",
       "      <td>1800000000</td>\n",
       "    </tr>\n",
       "    <tr>\n",
       "      <th>2</th>\n",
       "      <td>NAMIBIA</td>\n",
       "      <td>9.6</td>\n",
       "      <td>AFRICA</td>\n",
       "      <td>646000</td>\n",
       "      <td>21734000</td>\n",
       "      <td>2956000000</td>\n",
       "    </tr>\n",
       "    <tr>\n",
       "      <th>3</th>\n",
       "      <td>SIERRA LEONE</td>\n",
       "      <td>9.1</td>\n",
       "      <td>AFRICA</td>\n",
       "      <td>149000</td>\n",
       "      <td>2301000</td>\n",
       "      <td>495699000</td>\n",
       "    </tr>\n",
       "    <tr>\n",
       "      <th>4</th>\n",
       "      <td>BELIZE</td>\n",
       "      <td>8.7</td>\n",
       "      <td>CENTRAL AMERICA AND THE CARIBBEAN</td>\n",
       "      <td>220000</td>\n",
       "      <td>30752000</td>\n",
       "      <td>473729000</td>\n",
       "    </tr>\n",
       "    <tr>\n",
       "      <th>...</th>\n",
       "      <td>...</td>\n",
       "      <td>...</td>\n",
       "      <td>...</td>\n",
       "      <td>...</td>\n",
       "      <td>...</td>\n",
       "      <td>...</td>\n",
       "    </tr>\n",
       "    <tr>\n",
       "      <th>171</th>\n",
       "      <td>HAITI</td>\n",
       "      <td>1.4</td>\n",
       "      <td>CENTRAL AMERICA AND THE CARIBBEAN</td>\n",
       "      <td>472000</td>\n",
       "      <td>3486000</td>\n",
       "      <td>2586000000</td>\n",
       "    </tr>\n",
       "    <tr>\n",
       "      <th>172</th>\n",
       "      <td>PAPUA NEW GUINEA</td>\n",
       "      <td>1.4</td>\n",
       "      <td>EAST AND SOUTHEAST ASIA</td>\n",
       "      <td>1148000</td>\n",
       "      <td>8781000</td>\n",
       "      <td>3901000000</td>\n",
       "    </tr>\n",
       "    <tr>\n",
       "      <th>173</th>\n",
       "      <td>VENEZUELA</td>\n",
       "      <td>1.3</td>\n",
       "      <td>SOUTH AMERICA</td>\n",
       "      <td>33493000</td>\n",
       "      <td>54474000</td>\n",
       "      <td>9794000000</td>\n",
       "    </tr>\n",
       "    <tr>\n",
       "      <th>174</th>\n",
       "      <td>NIGERIA</td>\n",
       "      <td>0.5</td>\n",
       "      <td>AFRICA</td>\n",
       "      <td>4094000</td>\n",
       "      <td>7993000</td>\n",
       "      <td>35564000000</td>\n",
       "    </tr>\n",
       "    <tr>\n",
       "      <th>175</th>\n",
       "      <td>SOMALIA</td>\n",
       "      <td>0.3</td>\n",
       "      <td>AFRICA</td>\n",
       "      <td>156000</td>\n",
       "      <td>649000</td>\n",
       "      <td>30450000</td>\n",
       "    </tr>\n",
       "  </tbody>\n",
       "</table>\n",
       "<p>176 rows × 6 columns</p>\n",
       "</div>"
      ],
      "text/plain": [
       "                 name  education_expenditure(%GDP)  \\\n",
       "0     SOLOMON ISLANDS                         12.8   \n",
       "1             BOLIVIA                          9.8   \n",
       "2             NAMIBIA                          9.6   \n",
       "3        SIERRA LEONE                          9.1   \n",
       "4              BELIZE                          8.7   \n",
       "..                ...                          ...   \n",
       "171             HAITI                          1.4   \n",
       "172  PAPUA NEW GUINEA                          1.4   \n",
       "173         VENEZUELA                          1.3   \n",
       "174           NIGERIA                          0.5   \n",
       "175           SOMALIA                          0.3   \n",
       "\n",
       "                            region_x_x  power_generation(kW)  \\\n",
       "0                AUSTRALIA AND OCEANIA                 37000   \n",
       "1                        SOUTH AMERICA               4375000   \n",
       "2                               AFRICA                646000   \n",
       "3                               AFRICA                149000   \n",
       "4    CENTRAL AMERICA AND THE CARIBBEAN                220000   \n",
       "..                                 ...                   ...   \n",
       "171  CENTRAL AMERICA AND THE CARIBBEAN                472000   \n",
       "172            EAST AND SOUTHEAST ASIA               1148000   \n",
       "173                      SOUTH AMERICA              33493000   \n",
       "174                             AFRICA               4094000   \n",
       "175                             AFRICA                156000   \n",
       "\n",
       "     Btu/person_consumption($)  financial_assets_value($)  \n",
       "0                      5655000                  688220000  \n",
       "1                     29340000                 1800000000  \n",
       "2                     21734000                 2956000000  \n",
       "3                      2301000                  495699000  \n",
       "4                     30752000                  473729000  \n",
       "..                         ...                        ...  \n",
       "171                    3486000                 2586000000  \n",
       "172                    8781000                 3901000000  \n",
       "173                   54474000                 9794000000  \n",
       "174                    7993000                35564000000  \n",
       "175                     649000                   30450000  \n",
       "\n",
       "[176 rows x 6 columns]"
      ]
     },
     "execution_count": 94,
     "metadata": {},
     "output_type": "execute_result"
    }
   ],
   "source": [
    "final_merge=first_merge.merge(second_merge, how='left', left_on='name', right_on='name')\n",
    "final_merge=final_merge.drop(columns=['region_x_y'])\n",
    "final_merge"
   ]
  },
  {
   "cell_type": "markdown",
   "metadata": {
    "id": "khkOw2SfpxWI"
   },
   "source": [
    "6) Finalmente hacemos unos últimos arreglos a los nombres de las columnas"
   ]
  },
  {
   "cell_type": "code",
   "execution_count": 95,
   "metadata": {
    "id": "yqlMl7kxptVp"
   },
   "outputs": [],
   "source": [
    "final_merge= final_merge.rename(columns={'name': 'Country'})\n",
    "final_merge= final_merge.rename(columns={'region_x_x': 'Region'})"
   ]
  },
  {
   "cell_type": "code",
   "execution_count": 96,
   "metadata": {
    "id": "fVsiKqZdqE1Q"
   },
   "outputs": [],
   "source": [
    "region = final_merge['Region']\n",
    "final_merge=final_merge.drop(columns=['Region'])\n",
    "final_merge.insert(1, 'Region', region)\n"
   ]
  },
  {
   "cell_type": "markdown",
   "metadata": {
    "id": "N8XcLcjstuZ9"
   },
   "source": [
    "Guardamos una copia para no regresar hasta el inicio"
   ]
  },
  {
   "cell_type": "code",
   "execution_count": 97,
   "metadata": {
    "colab": {
     "base_uri": "https://localhost:8080/",
     "height": 669
    },
    "id": "fDjII2J4sHDO",
    "outputId": "73c02cdf-1b0f-4d3f-b44a-d9d6a5283bff"
   },
   "outputs": [
    {
     "data": {
      "text/html": [
       "<div>\n",
       "<style scoped>\n",
       "    .dataframe tbody tr th:only-of-type {\n",
       "        vertical-align: middle;\n",
       "    }\n",
       "\n",
       "    .dataframe tbody tr th {\n",
       "        vertical-align: top;\n",
       "    }\n",
       "\n",
       "    .dataframe thead th {\n",
       "        text-align: right;\n",
       "    }\n",
       "</style>\n",
       "<table border=\"1\" class=\"dataframe\">\n",
       "  <thead>\n",
       "    <tr style=\"text-align: right;\">\n",
       "      <th></th>\n",
       "      <th>Country</th>\n",
       "      <th>Region</th>\n",
       "      <th>education_expenditure(%GDP)</th>\n",
       "      <th>power_generation(kW)</th>\n",
       "      <th>Btu/person_consumption($)</th>\n",
       "      <th>financial_assets_value($)</th>\n",
       "    </tr>\n",
       "  </thead>\n",
       "  <tbody>\n",
       "    <tr>\n",
       "      <th>0</th>\n",
       "      <td>SOLOMON ISLANDS</td>\n",
       "      <td>AUSTRALIA AND OCEANIA</td>\n",
       "      <td>12.8</td>\n",
       "      <td>37000</td>\n",
       "      <td>5655000</td>\n",
       "      <td>688220000</td>\n",
       "    </tr>\n",
       "    <tr>\n",
       "      <th>1</th>\n",
       "      <td>BOLIVIA</td>\n",
       "      <td>SOUTH AMERICA</td>\n",
       "      <td>9.8</td>\n",
       "      <td>4375000</td>\n",
       "      <td>29340000</td>\n",
       "      <td>1800000000</td>\n",
       "    </tr>\n",
       "    <tr>\n",
       "      <th>2</th>\n",
       "      <td>NAMIBIA</td>\n",
       "      <td>AFRICA</td>\n",
       "      <td>9.6</td>\n",
       "      <td>646000</td>\n",
       "      <td>21734000</td>\n",
       "      <td>2956000000</td>\n",
       "    </tr>\n",
       "    <tr>\n",
       "      <th>3</th>\n",
       "      <td>SIERRA LEONE</td>\n",
       "      <td>AFRICA</td>\n",
       "      <td>9.1</td>\n",
       "      <td>149000</td>\n",
       "      <td>2301000</td>\n",
       "      <td>495699000</td>\n",
       "    </tr>\n",
       "    <tr>\n",
       "      <th>4</th>\n",
       "      <td>BELIZE</td>\n",
       "      <td>CENTRAL AMERICA AND THE CARIBBEAN</td>\n",
       "      <td>8.7</td>\n",
       "      <td>220000</td>\n",
       "      <td>30752000</td>\n",
       "      <td>473729000</td>\n",
       "    </tr>\n",
       "    <tr>\n",
       "      <th>...</th>\n",
       "      <td>...</td>\n",
       "      <td>...</td>\n",
       "      <td>...</td>\n",
       "      <td>...</td>\n",
       "      <td>...</td>\n",
       "      <td>...</td>\n",
       "    </tr>\n",
       "    <tr>\n",
       "      <th>171</th>\n",
       "      <td>HAITI</td>\n",
       "      <td>CENTRAL AMERICA AND THE CARIBBEAN</td>\n",
       "      <td>1.4</td>\n",
       "      <td>472000</td>\n",
       "      <td>3486000</td>\n",
       "      <td>2586000000</td>\n",
       "    </tr>\n",
       "    <tr>\n",
       "      <th>172</th>\n",
       "      <td>PAPUA NEW GUINEA</td>\n",
       "      <td>EAST AND SOUTHEAST ASIA</td>\n",
       "      <td>1.4</td>\n",
       "      <td>1148000</td>\n",
       "      <td>8781000</td>\n",
       "      <td>3901000000</td>\n",
       "    </tr>\n",
       "    <tr>\n",
       "      <th>173</th>\n",
       "      <td>VENEZUELA</td>\n",
       "      <td>SOUTH AMERICA</td>\n",
       "      <td>1.3</td>\n",
       "      <td>33493000</td>\n",
       "      <td>54474000</td>\n",
       "      <td>9794000000</td>\n",
       "    </tr>\n",
       "    <tr>\n",
       "      <th>174</th>\n",
       "      <td>NIGERIA</td>\n",
       "      <td>AFRICA</td>\n",
       "      <td>0.5</td>\n",
       "      <td>4094000</td>\n",
       "      <td>7993000</td>\n",
       "      <td>35564000000</td>\n",
       "    </tr>\n",
       "    <tr>\n",
       "      <th>175</th>\n",
       "      <td>SOMALIA</td>\n",
       "      <td>AFRICA</td>\n",
       "      <td>0.3</td>\n",
       "      <td>156000</td>\n",
       "      <td>649000</td>\n",
       "      <td>30450000</td>\n",
       "    </tr>\n",
       "  </tbody>\n",
       "</table>\n",
       "<p>176 rows × 6 columns</p>\n",
       "</div>"
      ],
      "text/plain": [
       "              Country                             Region  \\\n",
       "0     SOLOMON ISLANDS              AUSTRALIA AND OCEANIA   \n",
       "1             BOLIVIA                      SOUTH AMERICA   \n",
       "2             NAMIBIA                             AFRICA   \n",
       "3        SIERRA LEONE                             AFRICA   \n",
       "4              BELIZE  CENTRAL AMERICA AND THE CARIBBEAN   \n",
       "..                ...                                ...   \n",
       "171             HAITI  CENTRAL AMERICA AND THE CARIBBEAN   \n",
       "172  PAPUA NEW GUINEA            EAST AND SOUTHEAST ASIA   \n",
       "173         VENEZUELA                      SOUTH AMERICA   \n",
       "174           NIGERIA                             AFRICA   \n",
       "175           SOMALIA                             AFRICA   \n",
       "\n",
       "     education_expenditure(%GDP)  power_generation(kW)  \\\n",
       "0                           12.8                 37000   \n",
       "1                            9.8               4375000   \n",
       "2                            9.6                646000   \n",
       "3                            9.1                149000   \n",
       "4                            8.7                220000   \n",
       "..                           ...                   ...   \n",
       "171                          1.4                472000   \n",
       "172                          1.4               1148000   \n",
       "173                          1.3              33493000   \n",
       "174                          0.5               4094000   \n",
       "175                          0.3                156000   \n",
       "\n",
       "     Btu/person_consumption($)  financial_assets_value($)  \n",
       "0                      5655000                  688220000  \n",
       "1                     29340000                 1800000000  \n",
       "2                     21734000                 2956000000  \n",
       "3                      2301000                  495699000  \n",
       "4                     30752000                  473729000  \n",
       "..                         ...                        ...  \n",
       "171                    3486000                 2586000000  \n",
       "172                    8781000                 3901000000  \n",
       "173                   54474000                 9794000000  \n",
       "174                    7993000                35564000000  \n",
       "175                     649000                   30450000  \n",
       "\n",
       "[176 rows x 6 columns]"
      ]
     },
     "execution_count": 97,
     "metadata": {},
     "output_type": "execute_result"
    }
   ],
   "source": [
    "my_dataframe=final_merge.copy()\n",
    "my_dataframe"
   ]
  },
  {
   "cell_type": "markdown",
   "metadata": {
    "id": "0M7s6ou0hwzw"
   },
   "source": [
    "# REPORT AVERAGE, MIN AND MAX VALUES"
   ]
  },
  {
   "cell_type": "markdown",
   "metadata": {
    "id": "2Mt3tKh9iD52"
   },
   "source": [
    "Primera variable: education_expenditure(%GDP)"
   ]
  },
  {
   "cell_type": "code",
   "execution_count": 98,
   "metadata": {
    "colab": {
     "base_uri": "https://localhost:8080/",
     "height": 363
    },
    "id": "RvFqXhiqJmJi",
    "outputId": "eb6d551a-0316-438d-a4f5-85ede2486944"
   },
   "outputs": [
    {
     "data": {
      "text/html": [
       "<div>\n",
       "<style scoped>\n",
       "    .dataframe tbody tr th:only-of-type {\n",
       "        vertical-align: middle;\n",
       "    }\n",
       "\n",
       "    .dataframe tbody tr th {\n",
       "        vertical-align: top;\n",
       "    }\n",
       "\n",
       "    .dataframe thead th {\n",
       "        text-align: right;\n",
       "    }\n",
       "</style>\n",
       "<table border=\"1\" class=\"dataframe\">\n",
       "  <thead>\n",
       "    <tr style=\"text-align: right;\">\n",
       "      <th></th>\n",
       "      <th>Country</th>\n",
       "      <th>Region</th>\n",
       "      <th>education_expenditure(%GDP)</th>\n",
       "    </tr>\n",
       "  </thead>\n",
       "  <tbody>\n",
       "    <tr>\n",
       "      <th>2</th>\n",
       "      <td>NAMIBIA</td>\n",
       "      <td>AFRICA</td>\n",
       "      <td>9.6</td>\n",
       "    </tr>\n",
       "    <tr>\n",
       "      <th>0</th>\n",
       "      <td>SOLOMON ISLANDS</td>\n",
       "      <td>AUSTRALIA AND OCEANIA</td>\n",
       "      <td>12.8</td>\n",
       "    </tr>\n",
       "    <tr>\n",
       "      <th>4</th>\n",
       "      <td>BELIZE</td>\n",
       "      <td>CENTRAL AMERICA AND THE CARIBBEAN</td>\n",
       "      <td>8.7</td>\n",
       "    </tr>\n",
       "    <tr>\n",
       "      <th>27</th>\n",
       "      <td>KYRGYZSTAN</td>\n",
       "      <td>CENTRAL ASIA</td>\n",
       "      <td>6.2</td>\n",
       "    </tr>\n",
       "    <tr>\n",
       "      <th>26</th>\n",
       "      <td>MACAU</td>\n",
       "      <td>EAST AND SOUTHEAST ASIA</td>\n",
       "      <td>6.3</td>\n",
       "    </tr>\n",
       "    <tr>\n",
       "      <th>10</th>\n",
       "      <td>SWEDEN</td>\n",
       "      <td>EUROPE</td>\n",
       "      <td>7.2</td>\n",
       "    </tr>\n",
       "    <tr>\n",
       "      <th>7</th>\n",
       "      <td>SAUDI ARABIA</td>\n",
       "      <td>MIDDLE EAST</td>\n",
       "      <td>7.8</td>\n",
       "    </tr>\n",
       "    <tr>\n",
       "      <th>30</th>\n",
       "      <td>UNITED STATES</td>\n",
       "      <td>NORTH AMERICA</td>\n",
       "      <td>6.1</td>\n",
       "    </tr>\n",
       "    <tr>\n",
       "      <th>1</th>\n",
       "      <td>BOLIVIA</td>\n",
       "      <td>SOUTH AMERICA</td>\n",
       "      <td>9.8</td>\n",
       "    </tr>\n",
       "    <tr>\n",
       "      <th>13</th>\n",
       "      <td>BHUTAN</td>\n",
       "      <td>SOUTH ASIA</td>\n",
       "      <td>7.0</td>\n",
       "    </tr>\n",
       "  </tbody>\n",
       "</table>\n",
       "</div>"
      ],
      "text/plain": [
       "            Country                             Region  \\\n",
       "2           NAMIBIA                             AFRICA   \n",
       "0   SOLOMON ISLANDS              AUSTRALIA AND OCEANIA   \n",
       "4            BELIZE  CENTRAL AMERICA AND THE CARIBBEAN   \n",
       "27       KYRGYZSTAN                       CENTRAL ASIA   \n",
       "26            MACAU            EAST AND SOUTHEAST ASIA   \n",
       "10           SWEDEN                             EUROPE   \n",
       "7      SAUDI ARABIA                        MIDDLE EAST   \n",
       "30    UNITED STATES                      NORTH AMERICA   \n",
       "1           BOLIVIA                      SOUTH AMERICA   \n",
       "13           BHUTAN                         SOUTH ASIA   \n",
       "\n",
       "    education_expenditure(%GDP)  \n",
       "2                           9.6  \n",
       "0                          12.8  \n",
       "4                           8.7  \n",
       "27                          6.2  \n",
       "26                          6.3  \n",
       "10                          7.2  \n",
       "7                           7.8  \n",
       "30                          6.1  \n",
       "1                           9.8  \n",
       "13                          7.0  "
      ]
     },
     "execution_count": 98,
     "metadata": {},
     "output_type": "execute_result"
    }
   ],
   "source": [
    "#Mostarmos el valor máximo\n",
    "my_dataframe.loc[my_dataframe.groupby('Region')['education_expenditure(%GDP)'].idxmax()][['Country', 'Region', 'education_expenditure(%GDP)']]"
   ]
  },
  {
   "cell_type": "code",
   "execution_count": 99,
   "metadata": {
    "colab": {
     "base_uri": "https://localhost:8080/",
     "height": 363
    },
    "id": "ZF-Np_ooh1n3",
    "outputId": "c8672b24-8b35-4c20-dbec-41ac70440f60"
   },
   "outputs": [
    {
     "data": {
      "text/html": [
       "<div>\n",
       "<style scoped>\n",
       "    .dataframe tbody tr th:only-of-type {\n",
       "        vertical-align: middle;\n",
       "    }\n",
       "\n",
       "    .dataframe tbody tr th {\n",
       "        vertical-align: top;\n",
       "    }\n",
       "\n",
       "    .dataframe thead th {\n",
       "        text-align: right;\n",
       "    }\n",
       "</style>\n",
       "<table border=\"1\" class=\"dataframe\">\n",
       "  <thead>\n",
       "    <tr style=\"text-align: right;\">\n",
       "      <th></th>\n",
       "      <th>Country</th>\n",
       "      <th>Region</th>\n",
       "      <th>education_expenditure(%GDP)</th>\n",
       "    </tr>\n",
       "  </thead>\n",
       "  <tbody>\n",
       "    <tr>\n",
       "      <th>175</th>\n",
       "      <td>SOMALIA</td>\n",
       "      <td>AFRICA</td>\n",
       "      <td>0.3</td>\n",
       "    </tr>\n",
       "    <tr>\n",
       "      <th>160</th>\n",
       "      <td>VANUATU</td>\n",
       "      <td>AUSTRALIA AND OCEANIA</td>\n",
       "      <td>2.2</td>\n",
       "    </tr>\n",
       "    <tr>\n",
       "      <th>171</th>\n",
       "      <td>HAITI</td>\n",
       "      <td>CENTRAL AMERICA AND THE CARIBBEAN</td>\n",
       "      <td>1.4</td>\n",
       "    </tr>\n",
       "    <tr>\n",
       "      <th>149</th>\n",
       "      <td>ARMENIA</td>\n",
       "      <td>CENTRAL ASIA</td>\n",
       "      <td>2.8</td>\n",
       "    </tr>\n",
       "    <tr>\n",
       "      <th>172</th>\n",
       "      <td>PAPUA NEW GUINEA</td>\n",
       "      <td>EAST AND SOUTHEAST ASIA</td>\n",
       "      <td>1.4</td>\n",
       "    </tr>\n",
       "    <tr>\n",
       "      <th>137</th>\n",
       "      <td>ALBANIA</td>\n",
       "      <td>EUROPE</td>\n",
       "      <td>3.1</td>\n",
       "    </tr>\n",
       "    <tr>\n",
       "      <th>169</th>\n",
       "      <td>LEBANON</td>\n",
       "      <td>MIDDLE EAST</td>\n",
       "      <td>1.7</td>\n",
       "    </tr>\n",
       "    <tr>\n",
       "      <th>94</th>\n",
       "      <td>MEXICO</td>\n",
       "      <td>NORTH AMERICA</td>\n",
       "      <td>4.3</td>\n",
       "    </tr>\n",
       "    <tr>\n",
       "      <th>173</th>\n",
       "      <td>VENEZUELA</td>\n",
       "      <td>SOUTH AMERICA</td>\n",
       "      <td>1.3</td>\n",
       "    </tr>\n",
       "    <tr>\n",
       "      <th>167</th>\n",
       "      <td>SRI LANKA</td>\n",
       "      <td>SOUTH ASIA</td>\n",
       "      <td>1.9</td>\n",
       "    </tr>\n",
       "  </tbody>\n",
       "</table>\n",
       "</div>"
      ],
      "text/plain": [
       "              Country                             Region  \\\n",
       "175           SOMALIA                             AFRICA   \n",
       "160           VANUATU              AUSTRALIA AND OCEANIA   \n",
       "171             HAITI  CENTRAL AMERICA AND THE CARIBBEAN   \n",
       "149           ARMENIA                       CENTRAL ASIA   \n",
       "172  PAPUA NEW GUINEA            EAST AND SOUTHEAST ASIA   \n",
       "137           ALBANIA                             EUROPE   \n",
       "169           LEBANON                        MIDDLE EAST   \n",
       "94             MEXICO                      NORTH AMERICA   \n",
       "173         VENEZUELA                      SOUTH AMERICA   \n",
       "167         SRI LANKA                         SOUTH ASIA   \n",
       "\n",
       "     education_expenditure(%GDP)  \n",
       "175                          0.3  \n",
       "160                          2.2  \n",
       "171                          1.4  \n",
       "149                          2.8  \n",
       "172                          1.4  \n",
       "137                          3.1  \n",
       "169                          1.7  \n",
       "94                           4.3  \n",
       "173                          1.3  \n",
       "167                          1.9  "
      ]
     },
     "execution_count": 99,
     "metadata": {},
     "output_type": "execute_result"
    }
   ],
   "source": [
    "#Mostramos el valor mínimo\n",
    "my_dataframe.loc[my_dataframe.groupby('Region')['education_expenditure(%GDP)'].idxmin()][['Country', 'Region', 'education_expenditure(%GDP)']]\n"
   ]
  },
  {
   "cell_type": "code",
   "execution_count": 100,
   "metadata": {
    "colab": {
     "base_uri": "https://localhost:8080/",
     "height": 363
    },
    "id": "_81tq0vojgI_",
    "outputId": "8d0f0a35-4f0b-4839-dd0a-115b4b482312"
   },
   "outputs": [
    {
     "data": {
      "text/html": [
       "<div>\n",
       "<style scoped>\n",
       "    .dataframe tbody tr th:only-of-type {\n",
       "        vertical-align: middle;\n",
       "    }\n",
       "\n",
       "    .dataframe tbody tr th {\n",
       "        vertical-align: top;\n",
       "    }\n",
       "\n",
       "    .dataframe thead th {\n",
       "        text-align: right;\n",
       "    }\n",
       "</style>\n",
       "<table border=\"1\" class=\"dataframe\">\n",
       "  <thead>\n",
       "    <tr style=\"text-align: right;\">\n",
       "      <th></th>\n",
       "      <th>Region</th>\n",
       "      <th>education_expenditure(%GDP)</th>\n",
       "    </tr>\n",
       "  </thead>\n",
       "  <tbody>\n",
       "    <tr>\n",
       "      <th>0</th>\n",
       "      <td>AFRICA</td>\n",
       "      <td>4.268000</td>\n",
       "    </tr>\n",
       "    <tr>\n",
       "      <th>1</th>\n",
       "      <td>AUSTRALIA AND OCEANIA</td>\n",
       "      <td>6.314286</td>\n",
       "    </tr>\n",
       "    <tr>\n",
       "      <th>2</th>\n",
       "      <td>CENTRAL AMERICA AND THE CARIBBEAN</td>\n",
       "      <td>4.555000</td>\n",
       "    </tr>\n",
       "    <tr>\n",
       "      <th>3</th>\n",
       "      <td>CENTRAL ASIA</td>\n",
       "      <td>4.333333</td>\n",
       "    </tr>\n",
       "    <tr>\n",
       "      <th>4</th>\n",
       "      <td>EAST AND SOUTHEAST ASIA</td>\n",
       "      <td>3.633333</td>\n",
       "    </tr>\n",
       "    <tr>\n",
       "      <th>5</th>\n",
       "      <td>EUROPE</td>\n",
       "      <td>5.151429</td>\n",
       "    </tr>\n",
       "    <tr>\n",
       "      <th>6</th>\n",
       "      <td>MIDDLE EAST</td>\n",
       "      <td>4.528571</td>\n",
       "    </tr>\n",
       "    <tr>\n",
       "      <th>7</th>\n",
       "      <td>NORTH AMERICA</td>\n",
       "      <td>5.200000</td>\n",
       "    </tr>\n",
       "    <tr>\n",
       "      <th>8</th>\n",
       "      <td>SOUTH AMERICA</td>\n",
       "      <td>4.808333</td>\n",
       "    </tr>\n",
       "    <tr>\n",
       "      <th>9</th>\n",
       "      <td>SOUTH ASIA</td>\n",
       "      <td>3.850000</td>\n",
       "    </tr>\n",
       "  </tbody>\n",
       "</table>\n",
       "</div>"
      ],
      "text/plain": [
       "                              Region  education_expenditure(%GDP)\n",
       "0                             AFRICA                     4.268000\n",
       "1              AUSTRALIA AND OCEANIA                     6.314286\n",
       "2  CENTRAL AMERICA AND THE CARIBBEAN                     4.555000\n",
       "3                       CENTRAL ASIA                     4.333333\n",
       "4            EAST AND SOUTHEAST ASIA                     3.633333\n",
       "5                             EUROPE                     5.151429\n",
       "6                        MIDDLE EAST                     4.528571\n",
       "7                      NORTH AMERICA                     5.200000\n",
       "8                      SOUTH AMERICA                     4.808333\n",
       "9                         SOUTH ASIA                     3.850000"
      ]
     },
     "execution_count": 100,
     "metadata": {},
     "output_type": "execute_result"
    }
   ],
   "source": [
    "#Mostramos la media\n",
    "my_dataframe.groupby('Region', as_index=False)['education_expenditure(%GDP)'].mean()"
   ]
  },
  {
   "cell_type": "markdown",
   "metadata": {
    "id": "3ED1LHTuj-eG"
   },
   "source": [
    "Segunda varaible: power_generation(kW)"
   ]
  },
  {
   "cell_type": "code",
   "execution_count": 101,
   "metadata": {
    "colab": {
     "base_uri": "https://localhost:8080/",
     "height": 363
    },
    "id": "u1jVEpQUkiQN",
    "outputId": "948e2087-5ef6-42ca-d8da-3a3298124338"
   },
   "outputs": [
    {
     "data": {
      "text/html": [
       "<div>\n",
       "<style scoped>\n",
       "    .dataframe tbody tr th:only-of-type {\n",
       "        vertical-align: middle;\n",
       "    }\n",
       "\n",
       "    .dataframe tbody tr th {\n",
       "        vertical-align: top;\n",
       "    }\n",
       "\n",
       "    .dataframe thead th {\n",
       "        text-align: right;\n",
       "    }\n",
       "</style>\n",
       "<table border=\"1\" class=\"dataframe\">\n",
       "  <thead>\n",
       "    <tr style=\"text-align: right;\">\n",
       "      <th></th>\n",
       "      <th>Country</th>\n",
       "      <th>Region</th>\n",
       "      <th>power_generation(kW)</th>\n",
       "    </tr>\n",
       "  </thead>\n",
       "  <tbody>\n",
       "    <tr>\n",
       "      <th>17</th>\n",
       "      <td>SOUTH AFRICA</td>\n",
       "      <td>AFRICA</td>\n",
       "      <td>65989000</td>\n",
       "    </tr>\n",
       "    <tr>\n",
       "      <th>28</th>\n",
       "      <td>AUSTRALIA</td>\n",
       "      <td>AUSTRALIA AND OCEANIA</td>\n",
       "      <td>108193000</td>\n",
       "    </tr>\n",
       "    <tr>\n",
       "      <th>81</th>\n",
       "      <td>DOMINICAN REPUBLIC</td>\n",
       "      <td>CENTRAL AMERICA AND THE CARIBBEAN</td>\n",
       "      <td>6581000</td>\n",
       "    </tr>\n",
       "    <tr>\n",
       "      <th>117</th>\n",
       "      <td>RUSSIA</td>\n",
       "      <td>CENTRAL ASIA</td>\n",
       "      <td>301926000</td>\n",
       "    </tr>\n",
       "    <tr>\n",
       "      <th>118</th>\n",
       "      <td>CHINA</td>\n",
       "      <td>EAST AND SOUTHEAST ASIA</td>\n",
       "      <td>2949000000</td>\n",
       "    </tr>\n",
       "    <tr>\n",
       "      <th>78</th>\n",
       "      <td>GERMANY</td>\n",
       "      <td>EUROPE</td>\n",
       "      <td>275658000</td>\n",
       "    </tr>\n",
       "    <tr>\n",
       "      <th>7</th>\n",
       "      <td>SAUDI ARABIA</td>\n",
       "      <td>MIDDLE EAST</td>\n",
       "      <td>119620000</td>\n",
       "    </tr>\n",
       "    <tr>\n",
       "      <th>30</th>\n",
       "      <td>UNITED STATES</td>\n",
       "      <td>NORTH AMERICA</td>\n",
       "      <td>1235000000</td>\n",
       "    </tr>\n",
       "    <tr>\n",
       "      <th>31</th>\n",
       "      <td>BRAZIL</td>\n",
       "      <td>SOUTH AMERICA</td>\n",
       "      <td>240251000</td>\n",
       "    </tr>\n",
       "    <tr>\n",
       "      <th>87</th>\n",
       "      <td>INDIA</td>\n",
       "      <td>SOUTH ASIA</td>\n",
       "      <td>499136000</td>\n",
       "    </tr>\n",
       "  </tbody>\n",
       "</table>\n",
       "</div>"
      ],
      "text/plain": [
       "                Country                             Region  \\\n",
       "17         SOUTH AFRICA                             AFRICA   \n",
       "28            AUSTRALIA              AUSTRALIA AND OCEANIA   \n",
       "81   DOMINICAN REPUBLIC  CENTRAL AMERICA AND THE CARIBBEAN   \n",
       "117              RUSSIA                       CENTRAL ASIA   \n",
       "118               CHINA            EAST AND SOUTHEAST ASIA   \n",
       "78              GERMANY                             EUROPE   \n",
       "7          SAUDI ARABIA                        MIDDLE EAST   \n",
       "30        UNITED STATES                      NORTH AMERICA   \n",
       "31               BRAZIL                      SOUTH AMERICA   \n",
       "87                INDIA                         SOUTH ASIA   \n",
       "\n",
       "     power_generation(kW)  \n",
       "17               65989000  \n",
       "28              108193000  \n",
       "81                6581000  \n",
       "117             301926000  \n",
       "118            2949000000  \n",
       "78              275658000  \n",
       "7               119620000  \n",
       "30             1235000000  \n",
       "31              240251000  \n",
       "87              499136000  "
      ]
     },
     "execution_count": 101,
     "metadata": {},
     "output_type": "execute_result"
    }
   ],
   "source": [
    "#Mostarmos el valor máximo\n",
    "my_dataframe.loc[my_dataframe.groupby('Region')['power_generation(kW)'].idxmax()][['Country', 'Region', 'power_generation(kW)']]\n"
   ]
  },
  {
   "cell_type": "code",
   "execution_count": 102,
   "metadata": {
    "colab": {
     "base_uri": "https://localhost:8080/",
     "height": 363
    },
    "id": "JBZxcAqEpcPJ",
    "outputId": "7771bed2-829c-4846-8607-1c62a9a8c8a1"
   },
   "outputs": [
    {
     "data": {
      "text/html": [
       "<div>\n",
       "<style scoped>\n",
       "    .dataframe tbody tr th:only-of-type {\n",
       "        vertical-align: middle;\n",
       "    }\n",
       "\n",
       "    .dataframe tbody tr th {\n",
       "        vertical-align: top;\n",
       "    }\n",
       "\n",
       "    .dataframe thead th {\n",
       "        text-align: right;\n",
       "    }\n",
       "</style>\n",
       "<table border=\"1\" class=\"dataframe\">\n",
       "  <thead>\n",
       "    <tr style=\"text-align: right;\">\n",
       "      <th></th>\n",
       "      <th>Country</th>\n",
       "      <th>Region</th>\n",
       "      <th>power_generation(kW)</th>\n",
       "    </tr>\n",
       "  </thead>\n",
       "  <tbody>\n",
       "    <tr>\n",
       "      <th>62</th>\n",
       "      <td>SAO TOME AND PRINCIPE</td>\n",
       "      <td>AFRICA</td>\n",
       "      <td>29000</td>\n",
       "    </tr>\n",
       "    <tr>\n",
       "      <th>18</th>\n",
       "      <td>TONGA</td>\n",
       "      <td>AUSTRALIA AND OCEANIA</td>\n",
       "      <td>34000</td>\n",
       "    </tr>\n",
       "    <tr>\n",
       "      <th>47</th>\n",
       "      <td>DOMINICA</td>\n",
       "      <td>CENTRAL AMERICA AND THE CARIBBEAN</td>\n",
       "      <td>41000</td>\n",
       "    </tr>\n",
       "    <tr>\n",
       "      <th>27</th>\n",
       "      <td>KYRGYZSTAN</td>\n",
       "      <td>CENTRAL ASIA</td>\n",
       "      <td>3944000</td>\n",
       "    </tr>\n",
       "    <tr>\n",
       "      <th>96</th>\n",
       "      <td>TIMOR_LESTE</td>\n",
       "      <td>EAST AND SOUTHEAST ASIA</td>\n",
       "      <td>277000</td>\n",
       "    </tr>\n",
       "    <tr>\n",
       "      <th>23</th>\n",
       "      <td>MOLDOVA</td>\n",
       "      <td>EUROPE</td>\n",
       "      <td>779000</td>\n",
       "    </tr>\n",
       "    <tr>\n",
       "      <th>54</th>\n",
       "      <td>WEST BANK</td>\n",
       "      <td>MIDDLE EAST</td>\n",
       "      <td>352000</td>\n",
       "    </tr>\n",
       "    <tr>\n",
       "      <th>94</th>\n",
       "      <td>MEXICO</td>\n",
       "      <td>NORTH AMERICA</td>\n",
       "      <td>105586000</td>\n",
       "    </tr>\n",
       "    <tr>\n",
       "      <th>86</th>\n",
       "      <td>GUYANA</td>\n",
       "      <td>SOUTH AMERICA</td>\n",
       "      <td>259000</td>\n",
       "    </tr>\n",
       "    <tr>\n",
       "      <th>40</th>\n",
       "      <td>MALDIVES</td>\n",
       "      <td>SOUTH ASIA</td>\n",
       "      <td>432000</td>\n",
       "    </tr>\n",
       "  </tbody>\n",
       "</table>\n",
       "</div>"
      ],
      "text/plain": [
       "                  Country                             Region  \\\n",
       "62  SAO TOME AND PRINCIPE                             AFRICA   \n",
       "18                  TONGA              AUSTRALIA AND OCEANIA   \n",
       "47               DOMINICA  CENTRAL AMERICA AND THE CARIBBEAN   \n",
       "27             KYRGYZSTAN                       CENTRAL ASIA   \n",
       "96            TIMOR_LESTE            EAST AND SOUTHEAST ASIA   \n",
       "23                MOLDOVA                             EUROPE   \n",
       "54              WEST BANK                        MIDDLE EAST   \n",
       "94                 MEXICO                      NORTH AMERICA   \n",
       "86                 GUYANA                      SOUTH AMERICA   \n",
       "40               MALDIVES                         SOUTH ASIA   \n",
       "\n",
       "    power_generation(kW)  \n",
       "62                 29000  \n",
       "18                 34000  \n",
       "47                 41000  \n",
       "27               3944000  \n",
       "96                277000  \n",
       "23                779000  \n",
       "54                352000  \n",
       "94             105586000  \n",
       "86                259000  \n",
       "40                432000  "
      ]
     },
     "execution_count": 102,
     "metadata": {},
     "output_type": "execute_result"
    }
   ],
   "source": [
    "#Mostramos el valor mínimo\n",
    "my_dataframe.loc[my_dataframe.groupby('Region')['power_generation(kW)'].idxmin()][['Country', 'Region', 'power_generation(kW)']]\n"
   ]
  },
  {
   "cell_type": "code",
   "execution_count": 103,
   "metadata": {
    "colab": {
     "base_uri": "https://localhost:8080/",
     "height": 363
    },
    "id": "Q-yDVKuTzQLp",
    "outputId": "a45cd7e5-2866-489a-e663-bfc25100ef0c"
   },
   "outputs": [
    {
     "data": {
      "text/html": [
       "<div>\n",
       "<style scoped>\n",
       "    .dataframe tbody tr th:only-of-type {\n",
       "        vertical-align: middle;\n",
       "    }\n",
       "\n",
       "    .dataframe tbody tr th {\n",
       "        vertical-align: top;\n",
       "    }\n",
       "\n",
       "    .dataframe thead th {\n",
       "        text-align: right;\n",
       "    }\n",
       "</style>\n",
       "<table border=\"1\" class=\"dataframe\">\n",
       "  <thead>\n",
       "    <tr style=\"text-align: right;\">\n",
       "      <th></th>\n",
       "      <th>Region</th>\n",
       "      <th>power_generation(kW)</th>\n",
       "    </tr>\n",
       "  </thead>\n",
       "  <tbody>\n",
       "    <tr>\n",
       "      <th>0</th>\n",
       "      <td>AFRICA</td>\n",
       "      <td>4.619820e+06</td>\n",
       "    </tr>\n",
       "    <tr>\n",
       "      <th>1</th>\n",
       "      <td>AUSTRALIA AND OCEANIA</td>\n",
       "      <td>1.706100e+07</td>\n",
       "    </tr>\n",
       "    <tr>\n",
       "      <th>2</th>\n",
       "      <td>CENTRAL AMERICA AND THE CARIBBEAN</td>\n",
       "      <td>1.580500e+06</td>\n",
       "    </tr>\n",
       "    <tr>\n",
       "      <th>3</th>\n",
       "      <td>CENTRAL ASIA</td>\n",
       "      <td>4.239578e+07</td>\n",
       "    </tr>\n",
       "    <tr>\n",
       "      <th>4</th>\n",
       "      <td>EAST AND SOUTHEAST ASIA</td>\n",
       "      <td>2.108446e+08</td>\n",
       "    </tr>\n",
       "    <tr>\n",
       "      <th>5</th>\n",
       "      <td>EUROPE</td>\n",
       "      <td>4.027509e+07</td>\n",
       "    </tr>\n",
       "    <tr>\n",
       "      <th>6</th>\n",
       "      <td>MIDDLE EAST</td>\n",
       "      <td>3.381729e+07</td>\n",
       "    </tr>\n",
       "    <tr>\n",
       "      <th>7</th>\n",
       "      <td>NORTH AMERICA</td>\n",
       "      <td>5.008580e+08</td>\n",
       "    </tr>\n",
       "    <tr>\n",
       "      <th>8</th>\n",
       "      <td>SOUTH AMERICA</td>\n",
       "      <td>3.550408e+07</td>\n",
       "    </tr>\n",
       "    <tr>\n",
       "      <th>9</th>\n",
       "      <td>SOUTH ASIA</td>\n",
       "      <td>7.211612e+07</td>\n",
       "    </tr>\n",
       "  </tbody>\n",
       "</table>\n",
       "</div>"
      ],
      "text/plain": [
       "                              Region  power_generation(kW)\n",
       "0                             AFRICA          4.619820e+06\n",
       "1              AUSTRALIA AND OCEANIA          1.706100e+07\n",
       "2  CENTRAL AMERICA AND THE CARIBBEAN          1.580500e+06\n",
       "3                       CENTRAL ASIA          4.239578e+07\n",
       "4            EAST AND SOUTHEAST ASIA          2.108446e+08\n",
       "5                             EUROPE          4.027509e+07\n",
       "6                        MIDDLE EAST          3.381729e+07\n",
       "7                      NORTH AMERICA          5.008580e+08\n",
       "8                      SOUTH AMERICA          3.550408e+07\n",
       "9                         SOUTH ASIA          7.211612e+07"
      ]
     },
     "execution_count": 103,
     "metadata": {},
     "output_type": "execute_result"
    }
   ],
   "source": [
    "#Mostramos la media\n",
    "my_dataframe.groupby('Region', as_index=False)['power_generation(kW)'].mean()"
   ]
  },
  {
   "cell_type": "markdown",
   "metadata": {
    "id": "G67nvB1kkC1O"
   },
   "source": [
    "Tercera variable: Btu/person_consumption($)"
   ]
  },
  {
   "cell_type": "code",
   "execution_count": 104,
   "metadata": {
    "colab": {
     "base_uri": "https://localhost:8080/",
     "height": 363
    },
    "id": "d7RIWy_lpq3j",
    "outputId": "edad3a34-8aa8-46b2-97f2-577a620f3572"
   },
   "outputs": [
    {
     "data": {
      "text/html": [
       "<div>\n",
       "<style scoped>\n",
       "    .dataframe tbody tr th:only-of-type {\n",
       "        vertical-align: middle;\n",
       "    }\n",
       "\n",
       "    .dataframe tbody tr th {\n",
       "        vertical-align: top;\n",
       "    }\n",
       "\n",
       "    .dataframe thead th {\n",
       "        text-align: right;\n",
       "    }\n",
       "</style>\n",
       "<table border=\"1\" class=\"dataframe\">\n",
       "  <thead>\n",
       "    <tr style=\"text-align: right;\">\n",
       "      <th></th>\n",
       "      <th>Country</th>\n",
       "      <th>Region</th>\n",
       "      <th>Btu/person_consumption($)</th>\n",
       "    </tr>\n",
       "  </thead>\n",
       "  <tbody>\n",
       "    <tr>\n",
       "      <th>56</th>\n",
       "      <td>SEYCHELLES</td>\n",
       "      <td>AFRICA</td>\n",
       "      <td>98847000</td>\n",
       "    </tr>\n",
       "    <tr>\n",
       "      <th>28</th>\n",
       "      <td>AUSTRALIA</td>\n",
       "      <td>AUSTRALIA AND OCEANIA</td>\n",
       "      <td>223158000</td>\n",
       "    </tr>\n",
       "    <tr>\n",
       "      <th>44</th>\n",
       "      <td>ARUBA</td>\n",
       "      <td>CENTRAL AMERICA AND THE CARIBBEAN</td>\n",
       "      <td>153952000</td>\n",
       "    </tr>\n",
       "    <tr>\n",
       "      <th>136</th>\n",
       "      <td>TURKMENISTAN</td>\n",
       "      <td>CENTRAL ASIA</td>\n",
       "      <td>261142000</td>\n",
       "    </tr>\n",
       "    <tr>\n",
       "      <th>147</th>\n",
       "      <td>SINGAPORE</td>\n",
       "      <td>EAST AND SOUTHEAST ASIA</td>\n",
       "      <td>643259000</td>\n",
       "    </tr>\n",
       "    <tr>\n",
       "      <th>35</th>\n",
       "      <td>MALTA</td>\n",
       "      <td>EUROPE</td>\n",
       "      <td>234698000</td>\n",
       "    </tr>\n",
       "    <tr>\n",
       "      <th>132</th>\n",
       "      <td>QATAR</td>\n",
       "      <td>MIDDLE EAST</td>\n",
       "      <td>814308000</td>\n",
       "    </tr>\n",
       "    <tr>\n",
       "      <th>59</th>\n",
       "      <td>CANADA</td>\n",
       "      <td>NORTH AMERICA</td>\n",
       "      <td>311599000</td>\n",
       "    </tr>\n",
       "    <tr>\n",
       "      <th>68</th>\n",
       "      <td>ARGENTINA</td>\n",
       "      <td>SOUTH AMERICA</td>\n",
       "      <td>78496000</td>\n",
       "    </tr>\n",
       "    <tr>\n",
       "      <th>13</th>\n",
       "      <td>BHUTAN</td>\n",
       "      <td>SOUTH ASIA</td>\n",
       "      <td>64082000</td>\n",
       "    </tr>\n",
       "  </tbody>\n",
       "</table>\n",
       "</div>"
      ],
      "text/plain": [
       "          Country                             Region  \\\n",
       "56     SEYCHELLES                             AFRICA   \n",
       "28      AUSTRALIA              AUSTRALIA AND OCEANIA   \n",
       "44          ARUBA  CENTRAL AMERICA AND THE CARIBBEAN   \n",
       "136  TURKMENISTAN                       CENTRAL ASIA   \n",
       "147     SINGAPORE            EAST AND SOUTHEAST ASIA   \n",
       "35          MALTA                             EUROPE   \n",
       "132         QATAR                        MIDDLE EAST   \n",
       "59         CANADA                      NORTH AMERICA   \n",
       "68      ARGENTINA                      SOUTH AMERICA   \n",
       "13         BHUTAN                         SOUTH ASIA   \n",
       "\n",
       "     Btu/person_consumption($)  \n",
       "56                    98847000  \n",
       "28                   223158000  \n",
       "44                   153952000  \n",
       "136                  261142000  \n",
       "147                  643259000  \n",
       "35                   234698000  \n",
       "132                  814308000  \n",
       "59                   311599000  \n",
       "68                    78496000  \n",
       "13                    64082000  "
      ]
     },
     "execution_count": 104,
     "metadata": {},
     "output_type": "execute_result"
    }
   ],
   "source": [
    "#Mostarmos el valor máximo\n",
    "my_dataframe.loc[my_dataframe.groupby('Region')['Btu/person_consumption($)'].idxmax()][['Country', 'Region', 'Btu/person_consumption($)']]\n"
   ]
  },
  {
   "cell_type": "code",
   "execution_count": 105,
   "metadata": {
    "colab": {
     "base_uri": "https://localhost:8080/",
     "height": 363
    },
    "id": "zGITf7x3zYJ_",
    "outputId": "421ee8e3-d134-4323-fbd9-26baf8e9da37"
   },
   "outputs": [
    {
     "data": {
      "text/html": [
       "<div>\n",
       "<style scoped>\n",
       "    .dataframe tbody tr th:only-of-type {\n",
       "        vertical-align: middle;\n",
       "    }\n",
       "\n",
       "    .dataframe tbody tr th {\n",
       "        vertical-align: top;\n",
       "    }\n",
       "\n",
       "    .dataframe thead th {\n",
       "        text-align: right;\n",
       "    }\n",
       "</style>\n",
       "<table border=\"1\" class=\"dataframe\">\n",
       "  <thead>\n",
       "    <tr style=\"text-align: right;\">\n",
       "      <th></th>\n",
       "      <th>Country</th>\n",
       "      <th>Region</th>\n",
       "      <th>Btu/person_consumption($)</th>\n",
       "    </tr>\n",
       "  </thead>\n",
       "  <tbody>\n",
       "    <tr>\n",
       "      <th>175</th>\n",
       "      <td>SOMALIA</td>\n",
       "      <td>AFRICA</td>\n",
       "      <td>649000</td>\n",
       "    </tr>\n",
       "    <tr>\n",
       "      <th>0</th>\n",
       "      <td>SOLOMON ISLANDS</td>\n",
       "      <td>AUSTRALIA AND OCEANIA</td>\n",
       "      <td>5655000</td>\n",
       "    </tr>\n",
       "    <tr>\n",
       "      <th>171</th>\n",
       "      <td>HAITI</td>\n",
       "      <td>CENTRAL AMERICA AND THE CARIBBEAN</td>\n",
       "      <td>3486000</td>\n",
       "    </tr>\n",
       "    <tr>\n",
       "      <th>37</th>\n",
       "      <td>TAJIKISTAN</td>\n",
       "      <td>CENTRAL ASIA</td>\n",
       "      <td>16192000</td>\n",
       "    </tr>\n",
       "    <tr>\n",
       "      <th>96</th>\n",
       "      <td>TIMOR_LESTE</td>\n",
       "      <td>EAST AND SOUTHEAST ASIA</td>\n",
       "      <td>6825000</td>\n",
       "    </tr>\n",
       "    <tr>\n",
       "      <th>137</th>\n",
       "      <td>ALBANIA</td>\n",
       "      <td>EUROPE</td>\n",
       "      <td>27407000</td>\n",
       "    </tr>\n",
       "    <tr>\n",
       "      <th>54</th>\n",
       "      <td>WEST BANK</td>\n",
       "      <td>MIDDLE EAST</td>\n",
       "      <td>14991000</td>\n",
       "    </tr>\n",
       "    <tr>\n",
       "      <th>94</th>\n",
       "      <td>MEXICO</td>\n",
       "      <td>NORTH AMERICA</td>\n",
       "      <td>57539000</td>\n",
       "    </tr>\n",
       "    <tr>\n",
       "      <th>130</th>\n",
       "      <td>PARAGUAY</td>\n",
       "      <td>SOUTH AMERICA</td>\n",
       "      <td>25733000</td>\n",
       "    </tr>\n",
       "    <tr>\n",
       "      <th>145</th>\n",
       "      <td>AFGHANISTAN</td>\n",
       "      <td>SOUTH ASIA</td>\n",
       "      <td>3380000</td>\n",
       "    </tr>\n",
       "  </tbody>\n",
       "</table>\n",
       "</div>"
      ],
      "text/plain": [
       "             Country                             Region  \\\n",
       "175          SOMALIA                             AFRICA   \n",
       "0    SOLOMON ISLANDS              AUSTRALIA AND OCEANIA   \n",
       "171            HAITI  CENTRAL AMERICA AND THE CARIBBEAN   \n",
       "37        TAJIKISTAN                       CENTRAL ASIA   \n",
       "96       TIMOR_LESTE            EAST AND SOUTHEAST ASIA   \n",
       "137          ALBANIA                             EUROPE   \n",
       "54         WEST BANK                        MIDDLE EAST   \n",
       "94            MEXICO                      NORTH AMERICA   \n",
       "130         PARAGUAY                      SOUTH AMERICA   \n",
       "145      AFGHANISTAN                         SOUTH ASIA   \n",
       "\n",
       "     Btu/person_consumption($)  \n",
       "175                     649000  \n",
       "0                      5655000  \n",
       "171                    3486000  \n",
       "37                    16192000  \n",
       "96                     6825000  \n",
       "137                   27407000  \n",
       "54                    14991000  \n",
       "94                    57539000  \n",
       "130                   25733000  \n",
       "145                    3380000  "
      ]
     },
     "execution_count": 105,
     "metadata": {},
     "output_type": "execute_result"
    }
   ],
   "source": [
    "#Mostramos el valor mínimo\n",
    "my_dataframe.loc[my_dataframe.groupby('Region')['Btu/person_consumption($)'].idxmin()][['Country', 'Region', 'Btu/person_consumption($)']]"
   ]
  },
  {
   "cell_type": "code",
   "execution_count": 106,
   "metadata": {
    "colab": {
     "base_uri": "https://localhost:8080/",
     "height": 363
    },
    "id": "PbL-6_1wziYx",
    "outputId": "5c77a509-edbe-419e-d497-f2e9c030b69d"
   },
   "outputs": [
    {
     "data": {
      "text/html": [
       "<div>\n",
       "<style scoped>\n",
       "    .dataframe tbody tr th:only-of-type {\n",
       "        vertical-align: middle;\n",
       "    }\n",
       "\n",
       "    .dataframe tbody tr th {\n",
       "        vertical-align: top;\n",
       "    }\n",
       "\n",
       "    .dataframe thead th {\n",
       "        text-align: right;\n",
       "    }\n",
       "</style>\n",
       "<table border=\"1\" class=\"dataframe\">\n",
       "  <thead>\n",
       "    <tr style=\"text-align: right;\">\n",
       "      <th></th>\n",
       "      <th>Region</th>\n",
       "      <th>Btu/person_consumption($)</th>\n",
       "    </tr>\n",
       "  </thead>\n",
       "  <tbody>\n",
       "    <tr>\n",
       "      <th>0</th>\n",
       "      <td>AFRICA</td>\n",
       "      <td>1.412284e+07</td>\n",
       "    </tr>\n",
       "    <tr>\n",
       "      <th>1</th>\n",
       "      <td>AUSTRALIA AND OCEANIA</td>\n",
       "      <td>6.221671e+07</td>\n",
       "    </tr>\n",
       "    <tr>\n",
       "      <th>2</th>\n",
       "      <td>CENTRAL AMERICA AND THE CARIBBEAN</td>\n",
       "      <td>5.587300e+07</td>\n",
       "    </tr>\n",
       "    <tr>\n",
       "      <th>3</th>\n",
       "      <td>CENTRAL ASIA</td>\n",
       "      <td>1.039161e+08</td>\n",
       "    </tr>\n",
       "    <tr>\n",
       "      <th>4</th>\n",
       "      <td>EAST AND SOUTHEAST ASIA</td>\n",
       "      <td>1.186874e+08</td>\n",
       "    </tr>\n",
       "    <tr>\n",
       "      <th>5</th>\n",
       "      <td>EUROPE</td>\n",
       "      <td>1.131422e+08</td>\n",
       "    </tr>\n",
       "    <tr>\n",
       "      <th>6</th>\n",
       "      <td>MIDDLE EAST</td>\n",
       "      <td>2.406509e+08</td>\n",
       "    </tr>\n",
       "    <tr>\n",
       "      <th>7</th>\n",
       "      <td>NORTH AMERICA</td>\n",
       "      <td>2.158707e+08</td>\n",
       "    </tr>\n",
       "    <tr>\n",
       "      <th>8</th>\n",
       "      <td>SOUTH AMERICA</td>\n",
       "      <td>4.641467e+07</td>\n",
       "    </tr>\n",
       "    <tr>\n",
       "      <th>9</th>\n",
       "      <td>SOUTH ASIA</td>\n",
       "      <td>2.350638e+07</td>\n",
       "    </tr>\n",
       "  </tbody>\n",
       "</table>\n",
       "</div>"
      ],
      "text/plain": [
       "                              Region  Btu/person_consumption($)\n",
       "0                             AFRICA               1.412284e+07\n",
       "1              AUSTRALIA AND OCEANIA               6.221671e+07\n",
       "2  CENTRAL AMERICA AND THE CARIBBEAN               5.587300e+07\n",
       "3                       CENTRAL ASIA               1.039161e+08\n",
       "4            EAST AND SOUTHEAST ASIA               1.186874e+08\n",
       "5                             EUROPE               1.131422e+08\n",
       "6                        MIDDLE EAST               2.406509e+08\n",
       "7                      NORTH AMERICA               2.158707e+08\n",
       "8                      SOUTH AMERICA               4.641467e+07\n",
       "9                         SOUTH ASIA               2.350638e+07"
      ]
     },
     "execution_count": 106,
     "metadata": {},
     "output_type": "execute_result"
    }
   ],
   "source": [
    "#Mostramos la media\n",
    "my_dataframe.groupby('Region', as_index=False)['Btu/person_consumption($)'].mean()"
   ]
  },
  {
   "cell_type": "markdown",
   "metadata": {
    "id": "az8Vo-FSkML0"
   },
   "source": [
    "Cuarta variable: financial_assets_value($)"
   ]
  },
  {
   "cell_type": "code",
   "execution_count": 107,
   "metadata": {
    "colab": {
     "base_uri": "https://localhost:8080/",
     "height": 363
    },
    "id": "xwJK_pgYj1Ot",
    "outputId": "c0f06164-f1d2-49ab-ea18-fe3b7e6d8940"
   },
   "outputs": [
    {
     "data": {
      "text/html": [
       "<div>\n",
       "<style scoped>\n",
       "    .dataframe tbody tr th:only-of-type {\n",
       "        vertical-align: middle;\n",
       "    }\n",
       "\n",
       "    .dataframe tbody tr th {\n",
       "        vertical-align: top;\n",
       "    }\n",
       "\n",
       "    .dataframe thead th {\n",
       "        text-align: right;\n",
       "    }\n",
       "</style>\n",
       "<table border=\"1\" class=\"dataframe\">\n",
       "  <thead>\n",
       "    <tr style=\"text-align: right;\">\n",
       "      <th></th>\n",
       "      <th>Country</th>\n",
       "      <th>Region</th>\n",
       "      <th>financial_assets_value($)</th>\n",
       "    </tr>\n",
       "  </thead>\n",
       "  <tbody>\n",
       "    <tr>\n",
       "      <th>12</th>\n",
       "      <td>ALGERIA</td>\n",
       "      <td>AFRICA</td>\n",
       "      <td>81217000000</td>\n",
       "    </tr>\n",
       "    <tr>\n",
       "      <th>28</th>\n",
       "      <td>AUSTRALIA</td>\n",
       "      <td>AUSTRALIA AND OCEANIA</td>\n",
       "      <td>61703000000</td>\n",
       "    </tr>\n",
       "    <tr>\n",
       "      <th>141</th>\n",
       "      <td>GUATEMALA</td>\n",
       "      <td>CENTRAL AMERICA AND THE CARIBBEAN</td>\n",
       "      <td>21311000000</td>\n",
       "    </tr>\n",
       "    <tr>\n",
       "      <th>117</th>\n",
       "      <td>RUSSIA</td>\n",
       "      <td>CENTRAL ASIA</td>\n",
       "      <td>597217000000</td>\n",
       "    </tr>\n",
       "    <tr>\n",
       "      <th>118</th>\n",
       "      <td>CHINA</td>\n",
       "      <td>EAST AND SOUTHEAST ASIA</td>\n",
       "      <td>3450000000000</td>\n",
       "    </tr>\n",
       "    <tr>\n",
       "      <th>57</th>\n",
       "      <td>SWITZERLAND</td>\n",
       "      <td>EUROPE</td>\n",
       "      <td>863892000000</td>\n",
       "    </tr>\n",
       "    <tr>\n",
       "      <th>7</th>\n",
       "      <td>SAUDI ARABIA</td>\n",
       "      <td>MIDDLE EAST</td>\n",
       "      <td>457949000000</td>\n",
       "    </tr>\n",
       "    <tr>\n",
       "      <th>30</th>\n",
       "      <td>UNITED STATES</td>\n",
       "      <td>NORTH AMERICA</td>\n",
       "      <td>773426000000</td>\n",
       "    </tr>\n",
       "    <tr>\n",
       "      <th>31</th>\n",
       "      <td>BRAZIL</td>\n",
       "      <td>SOUTH AMERICA</td>\n",
       "      <td>355021000000</td>\n",
       "    </tr>\n",
       "    <tr>\n",
       "      <th>87</th>\n",
       "      <td>INDIA</td>\n",
       "      <td>SOUTH ASIA</td>\n",
       "      <td>627793000000</td>\n",
       "    </tr>\n",
       "  </tbody>\n",
       "</table>\n",
       "</div>"
      ],
      "text/plain": [
       "           Country                             Region  \\\n",
       "12         ALGERIA                             AFRICA   \n",
       "28       AUSTRALIA              AUSTRALIA AND OCEANIA   \n",
       "141      GUATEMALA  CENTRAL AMERICA AND THE CARIBBEAN   \n",
       "117         RUSSIA                       CENTRAL ASIA   \n",
       "118          CHINA            EAST AND SOUTHEAST ASIA   \n",
       "57     SWITZERLAND                             EUROPE   \n",
       "7     SAUDI ARABIA                        MIDDLE EAST   \n",
       "30   UNITED STATES                      NORTH AMERICA   \n",
       "31          BRAZIL                      SOUTH AMERICA   \n",
       "87           INDIA                         SOUTH ASIA   \n",
       "\n",
       "     financial_assets_value($)  \n",
       "12                 81217000000  \n",
       "28                 61703000000  \n",
       "141                21311000000  \n",
       "117               597217000000  \n",
       "118              3450000000000  \n",
       "57                863892000000  \n",
       "7                 457949000000  \n",
       "30                773426000000  \n",
       "31                355021000000  \n",
       "87                627793000000  "
      ]
     },
     "execution_count": 107,
     "metadata": {},
     "output_type": "execute_result"
    }
   ],
   "source": [
    "#Mostarmos el valor máximo\n",
    "my_dataframe.loc[my_dataframe.groupby('Region')['financial_assets_value($)'].idxmax()][['Country', 'Region', 'financial_assets_value($)']]"
   ]
  },
  {
   "cell_type": "code",
   "execution_count": 108,
   "metadata": {
    "colab": {
     "base_uri": "https://localhost:8080/",
     "height": 363
    },
    "id": "3w7PS6BRzmBQ",
    "outputId": "bb2c9997-a478-4ed7-d38e-0b2d039f8d7a"
   },
   "outputs": [
    {
     "data": {
      "text/html": [
       "<div>\n",
       "<style scoped>\n",
       "    .dataframe tbody tr th:only-of-type {\n",
       "        vertical-align: middle;\n",
       "    }\n",
       "\n",
       "    .dataframe tbody tr th {\n",
       "        vertical-align: top;\n",
       "    }\n",
       "\n",
       "    .dataframe thead th {\n",
       "        text-align: right;\n",
       "    }\n",
       "</style>\n",
       "<table border=\"1\" class=\"dataframe\">\n",
       "  <thead>\n",
       "    <tr style=\"text-align: right;\">\n",
       "      <th></th>\n",
       "      <th>Country</th>\n",
       "      <th>Region</th>\n",
       "      <th>financial_assets_value($)</th>\n",
       "    </tr>\n",
       "  </thead>\n",
       "  <tbody>\n",
       "    <tr>\n",
       "      <th>175</th>\n",
       "      <td>SOMALIA</td>\n",
       "      <td>AFRICA</td>\n",
       "      <td>30450000</td>\n",
       "    </tr>\n",
       "    <tr>\n",
       "      <th>18</th>\n",
       "      <td>TONGA</td>\n",
       "      <td>AUSTRALIA AND OCEANIA</td>\n",
       "      <td>396530000</td>\n",
       "    </tr>\n",
       "    <tr>\n",
       "      <th>47</th>\n",
       "      <td>DOMINICA</td>\n",
       "      <td>CENTRAL AMERICA AND THE CARIBBEAN</td>\n",
       "      <td>183530000</td>\n",
       "    </tr>\n",
       "    <tr>\n",
       "      <th>27</th>\n",
       "      <td>KYRGYZSTAN</td>\n",
       "      <td>CENTRAL ASIA</td>\n",
       "      <td>3237000000</td>\n",
       "    </tr>\n",
       "    <tr>\n",
       "      <th>96</th>\n",
       "      <td>TIMOR_LESTE</td>\n",
       "      <td>EAST AND SOUTHEAST ASIA</td>\n",
       "      <td>781995000</td>\n",
       "    </tr>\n",
       "    <tr>\n",
       "      <th>35</th>\n",
       "      <td>MALTA</td>\n",
       "      <td>EUROPE</td>\n",
       "      <td>1223000000</td>\n",
       "    </tr>\n",
       "    <tr>\n",
       "      <th>54</th>\n",
       "      <td>WEST BANK</td>\n",
       "      <td>MIDDLE EAST</td>\n",
       "      <td>1323000000</td>\n",
       "    </tr>\n",
       "    <tr>\n",
       "      <th>59</th>\n",
       "      <td>CANADA</td>\n",
       "      <td>NORTH AMERICA</td>\n",
       "      <td>117551000000</td>\n",
       "    </tr>\n",
       "    <tr>\n",
       "      <th>86</th>\n",
       "      <td>GUYANA</td>\n",
       "      <td>SOUTH AMERICA</td>\n",
       "      <td>895275000</td>\n",
       "    </tr>\n",
       "    <tr>\n",
       "      <th>40</th>\n",
       "      <td>MALDIVES</td>\n",
       "      <td>SOUTH ASIA</td>\n",
       "      <td>590523000</td>\n",
       "    </tr>\n",
       "  </tbody>\n",
       "</table>\n",
       "</div>"
      ],
      "text/plain": [
       "         Country                             Region  financial_assets_value($)\n",
       "175      SOMALIA                             AFRICA                   30450000\n",
       "18         TONGA              AUSTRALIA AND OCEANIA                  396530000\n",
       "47      DOMINICA  CENTRAL AMERICA AND THE CARIBBEAN                  183530000\n",
       "27    KYRGYZSTAN                       CENTRAL ASIA                 3237000000\n",
       "96   TIMOR_LESTE            EAST AND SOUTHEAST ASIA                  781995000\n",
       "35         MALTA                             EUROPE                 1223000000\n",
       "54     WEST BANK                        MIDDLE EAST                 1323000000\n",
       "59        CANADA                      NORTH AMERICA               117551000000\n",
       "86        GUYANA                      SOUTH AMERICA                  895275000\n",
       "40      MALDIVES                         SOUTH ASIA                  590523000"
      ]
     },
     "execution_count": 108,
     "metadata": {},
     "output_type": "execute_result"
    }
   ],
   "source": [
    "#Mostramos el valor mínimo\n",
    "my_dataframe.loc[my_dataframe.groupby('Region')['financial_assets_value($)'].idxmin()][['Country', 'Region', 'financial_assets_value($)']]"
   ]
  },
  {
   "cell_type": "code",
   "execution_count": 109,
   "metadata": {
    "colab": {
     "base_uri": "https://localhost:8080/",
     "height": 363
    },
    "id": "YSU5JG4fzqkQ",
    "outputId": "bcff4480-92ca-49b0-b2bd-e19544a1b25f"
   },
   "outputs": [
    {
     "data": {
      "text/html": [
       "<div>\n",
       "<style scoped>\n",
       "    .dataframe tbody tr th:only-of-type {\n",
       "        vertical-align: middle;\n",
       "    }\n",
       "\n",
       "    .dataframe tbody tr th {\n",
       "        vertical-align: top;\n",
       "    }\n",
       "\n",
       "    .dataframe thead th {\n",
       "        text-align: right;\n",
       "    }\n",
       "</style>\n",
       "<table border=\"1\" class=\"dataframe\">\n",
       "  <thead>\n",
       "    <tr style=\"text-align: right;\">\n",
       "      <th></th>\n",
       "      <th>Region</th>\n",
       "      <th>financial_assets_value($)</th>\n",
       "    </tr>\n",
       "  </thead>\n",
       "  <tbody>\n",
       "    <tr>\n",
       "      <th>0</th>\n",
       "      <td>AFRICA</td>\n",
       "      <td>7.087900e+09</td>\n",
       "    </tr>\n",
       "    <tr>\n",
       "      <th>1</th>\n",
       "      <td>AUSTRALIA AND OCEANIA</td>\n",
       "      <td>1.155909e+10</td>\n",
       "    </tr>\n",
       "    <tr>\n",
       "      <th>2</th>\n",
       "      <td>CENTRAL AMERICA AND THE CARIBBEAN</td>\n",
       "      <td>4.447386e+09</td>\n",
       "    </tr>\n",
       "    <tr>\n",
       "      <th>3</th>\n",
       "      <td>CENTRAL ASIA</td>\n",
       "      <td>8.023244e+10</td>\n",
       "    </tr>\n",
       "    <tr>\n",
       "      <th>4</th>\n",
       "      <td>EAST AND SOUTHEAST ASIA</td>\n",
       "      <td>3.723743e+11</td>\n",
       "    </tr>\n",
       "    <tr>\n",
       "      <th>5</th>\n",
       "      <td>EUROPE</td>\n",
       "      <td>8.739651e+10</td>\n",
       "    </tr>\n",
       "    <tr>\n",
       "      <th>6</th>\n",
       "      <td>MIDDLE EAST</td>\n",
       "      <td>1.002204e+11</td>\n",
       "    </tr>\n",
       "    <tr>\n",
       "      <th>7</th>\n",
       "      <td>NORTH AMERICA</td>\n",
       "      <td>3.684313e+11</td>\n",
       "    </tr>\n",
       "    <tr>\n",
       "      <th>8</th>\n",
       "      <td>SOUTH AMERICA</td>\n",
       "      <td>4.994452e+10</td>\n",
       "    </tr>\n",
       "    <tr>\n",
       "      <th>9</th>\n",
       "      <td>SOUTH ASIA</td>\n",
       "      <td>8.624625e+10</td>\n",
       "    </tr>\n",
       "  </tbody>\n",
       "</table>\n",
       "</div>"
      ],
      "text/plain": [
       "                              Region  financial_assets_value($)\n",
       "0                             AFRICA               7.087900e+09\n",
       "1              AUSTRALIA AND OCEANIA               1.155909e+10\n",
       "2  CENTRAL AMERICA AND THE CARIBBEAN               4.447386e+09\n",
       "3                       CENTRAL ASIA               8.023244e+10\n",
       "4            EAST AND SOUTHEAST ASIA               3.723743e+11\n",
       "5                             EUROPE               8.739651e+10\n",
       "6                        MIDDLE EAST               1.002204e+11\n",
       "7                      NORTH AMERICA               3.684313e+11\n",
       "8                      SOUTH AMERICA               4.994452e+10\n",
       "9                         SOUTH ASIA               8.624625e+10"
      ]
     },
     "execution_count": 109,
     "metadata": {},
     "output_type": "execute_result"
    }
   ],
   "source": [
    "#Mostramos la media\n",
    "my_dataframe.groupby('Region', as_index=False)['financial_assets_value($)'].mean()"
   ]
  },
  {
   "cell_type": "markdown",
   "metadata": {
    "id": "UKl-oBs-ffay"
   },
   "source": [
    "# CREATING 5 CATEGORIES FOR EACH VARIABLE"
   ]
  },
  {
   "cell_type": "code",
   "execution_count": 110,
   "metadata": {
    "id": "eF0TFIzknR7Y"
   },
   "outputs": [],
   "source": [
    "New_dataframe=my_dataframe.copy()"
   ]
  },
  {
   "cell_type": "code",
   "execution_count": 111,
   "metadata": {
    "colab": {
     "base_uri": "https://localhost:8080/"
    },
    "id": "Agn7jPv2n5t7",
    "outputId": "45133d63-f488-44ac-d6b9-e2576f2a64ea"
   },
   "outputs": [
    {
     "data": {
      "text/plain": [
       "[0.3, 3.1, 3.9, 4.9, 5.9, 12.8]"
      ]
     },
     "execution_count": 111,
     "metadata": {},
     "output_type": "execute_result"
    }
   ],
   "source": [
    "cuantil = list(my_dataframe['education_expenditure(%GDP)'].quantile([0, 0.2, 0.4, 0.6, 0.8, 1]))\n",
    "cuantil"
   ]
  },
  {
   "cell_type": "code",
   "execution_count": 112,
   "metadata": {
    "colab": {
     "base_uri": "https://localhost:8080/",
     "height": 348
    },
    "id": "MkaUaZcoMCd3",
    "outputId": "4164bb8f-3196-4f8c-bbdd-ef2f3fe2f97f"
   },
   "outputs": [
    {
     "data": {
      "text/html": [
       "<div>\n",
       "<style scoped>\n",
       "    .dataframe tbody tr th:only-of-type {\n",
       "        vertical-align: middle;\n",
       "    }\n",
       "\n",
       "    .dataframe tbody tr th {\n",
       "        vertical-align: top;\n",
       "    }\n",
       "\n",
       "    .dataframe thead th {\n",
       "        text-align: right;\n",
       "    }\n",
       "</style>\n",
       "<table border=\"1\" class=\"dataframe\">\n",
       "  <thead>\n",
       "    <tr style=\"text-align: right;\">\n",
       "      <th></th>\n",
       "      <th>Country</th>\n",
       "      <th>Region</th>\n",
       "      <th>education_expenditure(%GDP)</th>\n",
       "      <th>power_generation(kW)</th>\n",
       "      <th>Btu/person_consumption($)</th>\n",
       "      <th>financial_assets_value($)</th>\n",
       "      <th>education_categorie</th>\n",
       "    </tr>\n",
       "  </thead>\n",
       "  <tbody>\n",
       "    <tr>\n",
       "      <th>0</th>\n",
       "      <td>SOLOMON ISLANDS</td>\n",
       "      <td>AUSTRALIA AND OCEANIA</td>\n",
       "      <td>12.8</td>\n",
       "      <td>37000</td>\n",
       "      <td>5655000</td>\n",
       "      <td>688220000</td>\n",
       "      <td>very_high</td>\n",
       "    </tr>\n",
       "    <tr>\n",
       "      <th>1</th>\n",
       "      <td>BOLIVIA</td>\n",
       "      <td>SOUTH AMERICA</td>\n",
       "      <td>9.8</td>\n",
       "      <td>4375000</td>\n",
       "      <td>29340000</td>\n",
       "      <td>1800000000</td>\n",
       "      <td>very_high</td>\n",
       "    </tr>\n",
       "    <tr>\n",
       "      <th>2</th>\n",
       "      <td>NAMIBIA</td>\n",
       "      <td>AFRICA</td>\n",
       "      <td>9.6</td>\n",
       "      <td>646000</td>\n",
       "      <td>21734000</td>\n",
       "      <td>2956000000</td>\n",
       "      <td>very_high</td>\n",
       "    </tr>\n",
       "    <tr>\n",
       "      <th>3</th>\n",
       "      <td>SIERRA LEONE</td>\n",
       "      <td>AFRICA</td>\n",
       "      <td>9.1</td>\n",
       "      <td>149000</td>\n",
       "      <td>2301000</td>\n",
       "      <td>495699000</td>\n",
       "      <td>very_high</td>\n",
       "    </tr>\n",
       "    <tr>\n",
       "      <th>4</th>\n",
       "      <td>BELIZE</td>\n",
       "      <td>CENTRAL AMERICA AND THE CARIBBEAN</td>\n",
       "      <td>8.7</td>\n",
       "      <td>220000</td>\n",
       "      <td>30752000</td>\n",
       "      <td>473729000</td>\n",
       "      <td>very_high</td>\n",
       "    </tr>\n",
       "  </tbody>\n",
       "</table>\n",
       "</div>"
      ],
      "text/plain": [
       "           Country                             Region  \\\n",
       "0  SOLOMON ISLANDS              AUSTRALIA AND OCEANIA   \n",
       "1          BOLIVIA                      SOUTH AMERICA   \n",
       "2          NAMIBIA                             AFRICA   \n",
       "3     SIERRA LEONE                             AFRICA   \n",
       "4           BELIZE  CENTRAL AMERICA AND THE CARIBBEAN   \n",
       "\n",
       "   education_expenditure(%GDP)  power_generation(kW)  \\\n",
       "0                         12.8                 37000   \n",
       "1                          9.8               4375000   \n",
       "2                          9.6                646000   \n",
       "3                          9.1                149000   \n",
       "4                          8.7                220000   \n",
       "\n",
       "   Btu/person_consumption($)  financial_assets_value($) education_categorie  \n",
       "0                    5655000                  688220000           very_high  \n",
       "1                   29340000                 1800000000           very_high  \n",
       "2                   21734000                 2956000000           very_high  \n",
       "3                    2301000                  495699000           very_high  \n",
       "4                   30752000                  473729000           very_high  "
      ]
     },
     "execution_count": 112,
     "metadata": {},
     "output_type": "execute_result"
    }
   ],
   "source": [
    "New_dataframe['education_categorie']=pd.cut(New_dataframe['education_expenditure(%GDP)'],bins=cuantil,labels=['very_low','low','medium','high', 'very_high'],ordered=True, include_lowest=True)\n",
    "New_dataframe.head()"
   ]
  },
  {
   "cell_type": "code",
   "execution_count": 113,
   "metadata": {
    "colab": {
     "base_uri": "https://localhost:8080/"
    },
    "id": "80XKHDqixo_z",
    "outputId": "9699549a-733e-48bc-d7c0-347d8c786d9e"
   },
   "outputs": [
    {
     "data": {
      "text/plain": [
       "[29000.0, 352000.0, 2344000.0, 7419000.0, 31339000.0, 2949000000.0]"
      ]
     },
     "execution_count": 113,
     "metadata": {},
     "output_type": "execute_result"
    }
   ],
   "source": [
    "cuantil2 = list(my_dataframe['power_generation(kW)'].quantile([0, 0.2, 0.4, 0.6, 0.8, 1]))\n",
    "cuantil2"
   ]
  },
  {
   "cell_type": "code",
   "execution_count": 114,
   "metadata": {
    "colab": {
     "base_uri": "https://localhost:8080/",
     "height": 348
    },
    "id": "mLCMcEcixz-S",
    "outputId": "11e2a1fa-8397-44c2-caef-6d3c03e9bb03"
   },
   "outputs": [
    {
     "data": {
      "text/html": [
       "<div>\n",
       "<style scoped>\n",
       "    .dataframe tbody tr th:only-of-type {\n",
       "        vertical-align: middle;\n",
       "    }\n",
       "\n",
       "    .dataframe tbody tr th {\n",
       "        vertical-align: top;\n",
       "    }\n",
       "\n",
       "    .dataframe thead th {\n",
       "        text-align: right;\n",
       "    }\n",
       "</style>\n",
       "<table border=\"1\" class=\"dataframe\">\n",
       "  <thead>\n",
       "    <tr style=\"text-align: right;\">\n",
       "      <th></th>\n",
       "      <th>Country</th>\n",
       "      <th>Region</th>\n",
       "      <th>education_expenditure(%GDP)</th>\n",
       "      <th>power_generation(kW)</th>\n",
       "      <th>Btu/person_consumption($)</th>\n",
       "      <th>financial_assets_value($)</th>\n",
       "      <th>education_categorie</th>\n",
       "      <th>generation_categorie</th>\n",
       "    </tr>\n",
       "  </thead>\n",
       "  <tbody>\n",
       "    <tr>\n",
       "      <th>0</th>\n",
       "      <td>SOLOMON ISLANDS</td>\n",
       "      <td>AUSTRALIA AND OCEANIA</td>\n",
       "      <td>12.8</td>\n",
       "      <td>37000</td>\n",
       "      <td>5655000</td>\n",
       "      <td>688220000</td>\n",
       "      <td>very_high</td>\n",
       "      <td>very_low</td>\n",
       "    </tr>\n",
       "    <tr>\n",
       "      <th>1</th>\n",
       "      <td>BOLIVIA</td>\n",
       "      <td>SOUTH AMERICA</td>\n",
       "      <td>9.8</td>\n",
       "      <td>4375000</td>\n",
       "      <td>29340000</td>\n",
       "      <td>1800000000</td>\n",
       "      <td>very_high</td>\n",
       "      <td>medium</td>\n",
       "    </tr>\n",
       "    <tr>\n",
       "      <th>2</th>\n",
       "      <td>NAMIBIA</td>\n",
       "      <td>AFRICA</td>\n",
       "      <td>9.6</td>\n",
       "      <td>646000</td>\n",
       "      <td>21734000</td>\n",
       "      <td>2956000000</td>\n",
       "      <td>very_high</td>\n",
       "      <td>low</td>\n",
       "    </tr>\n",
       "    <tr>\n",
       "      <th>3</th>\n",
       "      <td>SIERRA LEONE</td>\n",
       "      <td>AFRICA</td>\n",
       "      <td>9.1</td>\n",
       "      <td>149000</td>\n",
       "      <td>2301000</td>\n",
       "      <td>495699000</td>\n",
       "      <td>very_high</td>\n",
       "      <td>very_low</td>\n",
       "    </tr>\n",
       "    <tr>\n",
       "      <th>4</th>\n",
       "      <td>BELIZE</td>\n",
       "      <td>CENTRAL AMERICA AND THE CARIBBEAN</td>\n",
       "      <td>8.7</td>\n",
       "      <td>220000</td>\n",
       "      <td>30752000</td>\n",
       "      <td>473729000</td>\n",
       "      <td>very_high</td>\n",
       "      <td>very_low</td>\n",
       "    </tr>\n",
       "  </tbody>\n",
       "</table>\n",
       "</div>"
      ],
      "text/plain": [
       "           Country                             Region  \\\n",
       "0  SOLOMON ISLANDS              AUSTRALIA AND OCEANIA   \n",
       "1          BOLIVIA                      SOUTH AMERICA   \n",
       "2          NAMIBIA                             AFRICA   \n",
       "3     SIERRA LEONE                             AFRICA   \n",
       "4           BELIZE  CENTRAL AMERICA AND THE CARIBBEAN   \n",
       "\n",
       "   education_expenditure(%GDP)  power_generation(kW)  \\\n",
       "0                         12.8                 37000   \n",
       "1                          9.8               4375000   \n",
       "2                          9.6                646000   \n",
       "3                          9.1                149000   \n",
       "4                          8.7                220000   \n",
       "\n",
       "   Btu/person_consumption($)  financial_assets_value($) education_categorie  \\\n",
       "0                    5655000                  688220000           very_high   \n",
       "1                   29340000                 1800000000           very_high   \n",
       "2                   21734000                 2956000000           very_high   \n",
       "3                    2301000                  495699000           very_high   \n",
       "4                   30752000                  473729000           very_high   \n",
       "\n",
       "  generation_categorie  \n",
       "0             very_low  \n",
       "1               medium  \n",
       "2                  low  \n",
       "3             very_low  \n",
       "4             very_low  "
      ]
     },
     "execution_count": 114,
     "metadata": {},
     "output_type": "execute_result"
    }
   ],
   "source": [
    "New_dataframe['generation_categorie']=pd.cut(New_dataframe['power_generation(kW)'],bins=cuantil2,labels=['very_low','low','medium','high', 'very_high'],ordered=True, include_lowest=True)\n",
    "New_dataframe.head()"
   ]
  },
  {
   "cell_type": "code",
   "execution_count": 115,
   "metadata": {
    "colab": {
     "base_uri": "https://localhost:8080/"
    },
    "id": "Ff5xXAmyyasx",
    "outputId": "233915d0-7719-4b61-a570-59c24cc5da65"
   },
   "outputs": [
    {
     "data": {
      "text/plain": [
       "[649000.0, 8303000.0, 29305000.0, 64082000.0, 113163000.0, 814308000.0]"
      ]
     },
     "execution_count": 115,
     "metadata": {},
     "output_type": "execute_result"
    }
   ],
   "source": [
    "cuantil3 = list(my_dataframe['Btu/person_consumption($)'].quantile([0, 0.2, 0.4, 0.6, 0.8, 1]))\n",
    "cuantil3"
   ]
  },
  {
   "cell_type": "code",
   "execution_count": 116,
   "metadata": {
    "colab": {
     "base_uri": "https://localhost:8080/",
     "height": 348
    },
    "id": "IY1Ce5GLyoSD",
    "outputId": "45935a05-f0a6-4ae1-9e24-649aada576b8"
   },
   "outputs": [
    {
     "data": {
      "text/html": [
       "<div>\n",
       "<style scoped>\n",
       "    .dataframe tbody tr th:only-of-type {\n",
       "        vertical-align: middle;\n",
       "    }\n",
       "\n",
       "    .dataframe tbody tr th {\n",
       "        vertical-align: top;\n",
       "    }\n",
       "\n",
       "    .dataframe thead th {\n",
       "        text-align: right;\n",
       "    }\n",
       "</style>\n",
       "<table border=\"1\" class=\"dataframe\">\n",
       "  <thead>\n",
       "    <tr style=\"text-align: right;\">\n",
       "      <th></th>\n",
       "      <th>Country</th>\n",
       "      <th>Region</th>\n",
       "      <th>education_expenditure(%GDP)</th>\n",
       "      <th>power_generation(kW)</th>\n",
       "      <th>Btu/person_consumption($)</th>\n",
       "      <th>financial_assets_value($)</th>\n",
       "      <th>education_categorie</th>\n",
       "      <th>generation_categorie</th>\n",
       "      <th>consumption_categorie</th>\n",
       "    </tr>\n",
       "  </thead>\n",
       "  <tbody>\n",
       "    <tr>\n",
       "      <th>0</th>\n",
       "      <td>SOLOMON ISLANDS</td>\n",
       "      <td>AUSTRALIA AND OCEANIA</td>\n",
       "      <td>12.8</td>\n",
       "      <td>37000</td>\n",
       "      <td>5655000</td>\n",
       "      <td>688220000</td>\n",
       "      <td>very_high</td>\n",
       "      <td>very_low</td>\n",
       "      <td>very_low</td>\n",
       "    </tr>\n",
       "    <tr>\n",
       "      <th>1</th>\n",
       "      <td>BOLIVIA</td>\n",
       "      <td>SOUTH AMERICA</td>\n",
       "      <td>9.8</td>\n",
       "      <td>4375000</td>\n",
       "      <td>29340000</td>\n",
       "      <td>1800000000</td>\n",
       "      <td>very_high</td>\n",
       "      <td>medium</td>\n",
       "      <td>medium</td>\n",
       "    </tr>\n",
       "    <tr>\n",
       "      <th>2</th>\n",
       "      <td>NAMIBIA</td>\n",
       "      <td>AFRICA</td>\n",
       "      <td>9.6</td>\n",
       "      <td>646000</td>\n",
       "      <td>21734000</td>\n",
       "      <td>2956000000</td>\n",
       "      <td>very_high</td>\n",
       "      <td>low</td>\n",
       "      <td>low</td>\n",
       "    </tr>\n",
       "    <tr>\n",
       "      <th>3</th>\n",
       "      <td>SIERRA LEONE</td>\n",
       "      <td>AFRICA</td>\n",
       "      <td>9.1</td>\n",
       "      <td>149000</td>\n",
       "      <td>2301000</td>\n",
       "      <td>495699000</td>\n",
       "      <td>very_high</td>\n",
       "      <td>very_low</td>\n",
       "      <td>very_low</td>\n",
       "    </tr>\n",
       "    <tr>\n",
       "      <th>4</th>\n",
       "      <td>BELIZE</td>\n",
       "      <td>CENTRAL AMERICA AND THE CARIBBEAN</td>\n",
       "      <td>8.7</td>\n",
       "      <td>220000</td>\n",
       "      <td>30752000</td>\n",
       "      <td>473729000</td>\n",
       "      <td>very_high</td>\n",
       "      <td>very_low</td>\n",
       "      <td>medium</td>\n",
       "    </tr>\n",
       "  </tbody>\n",
       "</table>\n",
       "</div>"
      ],
      "text/plain": [
       "           Country                             Region  \\\n",
       "0  SOLOMON ISLANDS              AUSTRALIA AND OCEANIA   \n",
       "1          BOLIVIA                      SOUTH AMERICA   \n",
       "2          NAMIBIA                             AFRICA   \n",
       "3     SIERRA LEONE                             AFRICA   \n",
       "4           BELIZE  CENTRAL AMERICA AND THE CARIBBEAN   \n",
       "\n",
       "   education_expenditure(%GDP)  power_generation(kW)  \\\n",
       "0                         12.8                 37000   \n",
       "1                          9.8               4375000   \n",
       "2                          9.6                646000   \n",
       "3                          9.1                149000   \n",
       "4                          8.7                220000   \n",
       "\n",
       "   Btu/person_consumption($)  financial_assets_value($) education_categorie  \\\n",
       "0                    5655000                  688220000           very_high   \n",
       "1                   29340000                 1800000000           very_high   \n",
       "2                   21734000                 2956000000           very_high   \n",
       "3                    2301000                  495699000           very_high   \n",
       "4                   30752000                  473729000           very_high   \n",
       "\n",
       "  generation_categorie consumption_categorie  \n",
       "0             very_low              very_low  \n",
       "1               medium                medium  \n",
       "2                  low                   low  \n",
       "3             very_low              very_low  \n",
       "4             very_low                medium  "
      ]
     },
     "execution_count": 116,
     "metadata": {},
     "output_type": "execute_result"
    }
   ],
   "source": [
    "New_dataframe['consumption_categorie']=pd.cut(New_dataframe['Btu/person_consumption($)'],bins=cuantil3,labels=['very_low','low','medium','high', 'very_high'],ordered=True, include_lowest=True)\n",
    "New_dataframe.head()"
   ]
  },
  {
   "cell_type": "code",
   "execution_count": 117,
   "metadata": {
    "colab": {
     "base_uri": "https://localhost:8080/"
    },
    "id": "_FU_ZtLcy13N",
    "outputId": "d640c4a5-d96a-4ba2-e2ed-0cf3f2a86b20"
   },
   "outputs": [
    {
     "data": {
      "text/plain": [
       "[30450000.0,\n",
       " 781995000.0,\n",
       " 3624000000.0,\n",
       " 13730000000.0,\n",
       " 69830000000.0,\n",
       " 3450000000000.0]"
      ]
     },
     "execution_count": 117,
     "metadata": {},
     "output_type": "execute_result"
    }
   ],
   "source": [
    "cuantil4 = list(my_dataframe['financial_assets_value($)'].quantile([0, 0.2, 0.4, 0.6, 0.8, 1]))\n",
    "cuantil4"
   ]
  },
  {
   "cell_type": "code",
   "execution_count": 118,
   "metadata": {
    "colab": {
     "base_uri": "https://localhost:8080/",
     "height": 348
    },
    "id": "0v0l56VQy63h",
    "outputId": "55ea3731-9fe8-438c-e4fd-35cb6e2705db"
   },
   "outputs": [
    {
     "data": {
      "text/html": [
       "<div>\n",
       "<style scoped>\n",
       "    .dataframe tbody tr th:only-of-type {\n",
       "        vertical-align: middle;\n",
       "    }\n",
       "\n",
       "    .dataframe tbody tr th {\n",
       "        vertical-align: top;\n",
       "    }\n",
       "\n",
       "    .dataframe thead th {\n",
       "        text-align: right;\n",
       "    }\n",
       "</style>\n",
       "<table border=\"1\" class=\"dataframe\">\n",
       "  <thead>\n",
       "    <tr style=\"text-align: right;\">\n",
       "      <th></th>\n",
       "      <th>Country</th>\n",
       "      <th>Region</th>\n",
       "      <th>education_expenditure(%GDP)</th>\n",
       "      <th>power_generation(kW)</th>\n",
       "      <th>Btu/person_consumption($)</th>\n",
       "      <th>financial_assets_value($)</th>\n",
       "      <th>education_categorie</th>\n",
       "      <th>generation_categorie</th>\n",
       "      <th>consumption_categorie</th>\n",
       "      <th>financial_categorie</th>\n",
       "    </tr>\n",
       "  </thead>\n",
       "  <tbody>\n",
       "    <tr>\n",
       "      <th>0</th>\n",
       "      <td>SOLOMON ISLANDS</td>\n",
       "      <td>AUSTRALIA AND OCEANIA</td>\n",
       "      <td>12.8</td>\n",
       "      <td>37000</td>\n",
       "      <td>5655000</td>\n",
       "      <td>688220000</td>\n",
       "      <td>very_high</td>\n",
       "      <td>very_low</td>\n",
       "      <td>very_low</td>\n",
       "      <td>very_low</td>\n",
       "    </tr>\n",
       "    <tr>\n",
       "      <th>1</th>\n",
       "      <td>BOLIVIA</td>\n",
       "      <td>SOUTH AMERICA</td>\n",
       "      <td>9.8</td>\n",
       "      <td>4375000</td>\n",
       "      <td>29340000</td>\n",
       "      <td>1800000000</td>\n",
       "      <td>very_high</td>\n",
       "      <td>medium</td>\n",
       "      <td>medium</td>\n",
       "      <td>low</td>\n",
       "    </tr>\n",
       "    <tr>\n",
       "      <th>2</th>\n",
       "      <td>NAMIBIA</td>\n",
       "      <td>AFRICA</td>\n",
       "      <td>9.6</td>\n",
       "      <td>646000</td>\n",
       "      <td>21734000</td>\n",
       "      <td>2956000000</td>\n",
       "      <td>very_high</td>\n",
       "      <td>low</td>\n",
       "      <td>low</td>\n",
       "      <td>low</td>\n",
       "    </tr>\n",
       "    <tr>\n",
       "      <th>3</th>\n",
       "      <td>SIERRA LEONE</td>\n",
       "      <td>AFRICA</td>\n",
       "      <td>9.1</td>\n",
       "      <td>149000</td>\n",
       "      <td>2301000</td>\n",
       "      <td>495699000</td>\n",
       "      <td>very_high</td>\n",
       "      <td>very_low</td>\n",
       "      <td>very_low</td>\n",
       "      <td>very_low</td>\n",
       "    </tr>\n",
       "    <tr>\n",
       "      <th>4</th>\n",
       "      <td>BELIZE</td>\n",
       "      <td>CENTRAL AMERICA AND THE CARIBBEAN</td>\n",
       "      <td>8.7</td>\n",
       "      <td>220000</td>\n",
       "      <td>30752000</td>\n",
       "      <td>473729000</td>\n",
       "      <td>very_high</td>\n",
       "      <td>very_low</td>\n",
       "      <td>medium</td>\n",
       "      <td>very_low</td>\n",
       "    </tr>\n",
       "  </tbody>\n",
       "</table>\n",
       "</div>"
      ],
      "text/plain": [
       "           Country                             Region  \\\n",
       "0  SOLOMON ISLANDS              AUSTRALIA AND OCEANIA   \n",
       "1          BOLIVIA                      SOUTH AMERICA   \n",
       "2          NAMIBIA                             AFRICA   \n",
       "3     SIERRA LEONE                             AFRICA   \n",
       "4           BELIZE  CENTRAL AMERICA AND THE CARIBBEAN   \n",
       "\n",
       "   education_expenditure(%GDP)  power_generation(kW)  \\\n",
       "0                         12.8                 37000   \n",
       "1                          9.8               4375000   \n",
       "2                          9.6                646000   \n",
       "3                          9.1                149000   \n",
       "4                          8.7                220000   \n",
       "\n",
       "   Btu/person_consumption($)  financial_assets_value($) education_categorie  \\\n",
       "0                    5655000                  688220000           very_high   \n",
       "1                   29340000                 1800000000           very_high   \n",
       "2                   21734000                 2956000000           very_high   \n",
       "3                    2301000                  495699000           very_high   \n",
       "4                   30752000                  473729000           very_high   \n",
       "\n",
       "  generation_categorie consumption_categorie financial_categorie  \n",
       "0             very_low              very_low            very_low  \n",
       "1               medium                medium                 low  \n",
       "2                  low                   low                 low  \n",
       "3             very_low              very_low            very_low  \n",
       "4             very_low                medium            very_low  "
      ]
     },
     "execution_count": 118,
     "metadata": {},
     "output_type": "execute_result"
    }
   ],
   "source": [
    "New_dataframe['financial_categorie']=pd.cut(New_dataframe['financial_assets_value($)'],bins=cuantil4,labels=['very_low','low','medium','high', 'very_high'],ordered=True, include_lowest=True)\n",
    "New_dataframe.head()"
   ]
  },
  {
   "cell_type": "markdown",
   "metadata": {
    "id": "TkZHCNaX0kPy"
   },
   "source": [
    "Reordenamos las categorías"
   ]
  },
  {
   "cell_type": "code",
   "execution_count": 119,
   "metadata": {
    "colab": {
     "base_uri": "https://localhost:8080/",
     "height": 669
    },
    "id": "n8GSadKuzq1t",
    "outputId": "3a2f3076-191b-407f-c885-9aa4359f3538"
   },
   "outputs": [
    {
     "data": {
      "text/html": [
       "<div>\n",
       "<style scoped>\n",
       "    .dataframe tbody tr th:only-of-type {\n",
       "        vertical-align: middle;\n",
       "    }\n",
       "\n",
       "    .dataframe tbody tr th {\n",
       "        vertical-align: top;\n",
       "    }\n",
       "\n",
       "    .dataframe thead th {\n",
       "        text-align: right;\n",
       "    }\n",
       "</style>\n",
       "<table border=\"1\" class=\"dataframe\">\n",
       "  <thead>\n",
       "    <tr style=\"text-align: right;\">\n",
       "      <th></th>\n",
       "      <th>Country</th>\n",
       "      <th>Region</th>\n",
       "      <th>education_expenditure(%GDP)</th>\n",
       "      <th>education_categorie</th>\n",
       "      <th>power_generation(kW)</th>\n",
       "      <th>Btu/person_consumption($)</th>\n",
       "      <th>financial_assets_value($)</th>\n",
       "      <th>generation_categorie</th>\n",
       "      <th>consumption_categorie</th>\n",
       "      <th>financial_categorie</th>\n",
       "    </tr>\n",
       "  </thead>\n",
       "  <tbody>\n",
       "    <tr>\n",
       "      <th>0</th>\n",
       "      <td>SOLOMON ISLANDS</td>\n",
       "      <td>AUSTRALIA AND OCEANIA</td>\n",
       "      <td>12.8</td>\n",
       "      <td>very_high</td>\n",
       "      <td>37000</td>\n",
       "      <td>5655000</td>\n",
       "      <td>688220000</td>\n",
       "      <td>very_low</td>\n",
       "      <td>very_low</td>\n",
       "      <td>very_low</td>\n",
       "    </tr>\n",
       "    <tr>\n",
       "      <th>1</th>\n",
       "      <td>BOLIVIA</td>\n",
       "      <td>SOUTH AMERICA</td>\n",
       "      <td>9.8</td>\n",
       "      <td>very_high</td>\n",
       "      <td>4375000</td>\n",
       "      <td>29340000</td>\n",
       "      <td>1800000000</td>\n",
       "      <td>medium</td>\n",
       "      <td>medium</td>\n",
       "      <td>low</td>\n",
       "    </tr>\n",
       "    <tr>\n",
       "      <th>2</th>\n",
       "      <td>NAMIBIA</td>\n",
       "      <td>AFRICA</td>\n",
       "      <td>9.6</td>\n",
       "      <td>very_high</td>\n",
       "      <td>646000</td>\n",
       "      <td>21734000</td>\n",
       "      <td>2956000000</td>\n",
       "      <td>low</td>\n",
       "      <td>low</td>\n",
       "      <td>low</td>\n",
       "    </tr>\n",
       "    <tr>\n",
       "      <th>3</th>\n",
       "      <td>SIERRA LEONE</td>\n",
       "      <td>AFRICA</td>\n",
       "      <td>9.1</td>\n",
       "      <td>very_high</td>\n",
       "      <td>149000</td>\n",
       "      <td>2301000</td>\n",
       "      <td>495699000</td>\n",
       "      <td>very_low</td>\n",
       "      <td>very_low</td>\n",
       "      <td>very_low</td>\n",
       "    </tr>\n",
       "    <tr>\n",
       "      <th>4</th>\n",
       "      <td>BELIZE</td>\n",
       "      <td>CENTRAL AMERICA AND THE CARIBBEAN</td>\n",
       "      <td>8.7</td>\n",
       "      <td>very_high</td>\n",
       "      <td>220000</td>\n",
       "      <td>30752000</td>\n",
       "      <td>473729000</td>\n",
       "      <td>very_low</td>\n",
       "      <td>medium</td>\n",
       "      <td>very_low</td>\n",
       "    </tr>\n",
       "    <tr>\n",
       "      <th>...</th>\n",
       "      <td>...</td>\n",
       "      <td>...</td>\n",
       "      <td>...</td>\n",
       "      <td>...</td>\n",
       "      <td>...</td>\n",
       "      <td>...</td>\n",
       "      <td>...</td>\n",
       "      <td>...</td>\n",
       "      <td>...</td>\n",
       "      <td>...</td>\n",
       "    </tr>\n",
       "    <tr>\n",
       "      <th>171</th>\n",
       "      <td>HAITI</td>\n",
       "      <td>CENTRAL AMERICA AND THE CARIBBEAN</td>\n",
       "      <td>1.4</td>\n",
       "      <td>very_low</td>\n",
       "      <td>472000</td>\n",
       "      <td>3486000</td>\n",
       "      <td>2586000000</td>\n",
       "      <td>low</td>\n",
       "      <td>very_low</td>\n",
       "      <td>low</td>\n",
       "    </tr>\n",
       "    <tr>\n",
       "      <th>172</th>\n",
       "      <td>PAPUA NEW GUINEA</td>\n",
       "      <td>EAST AND SOUTHEAST ASIA</td>\n",
       "      <td>1.4</td>\n",
       "      <td>very_low</td>\n",
       "      <td>1148000</td>\n",
       "      <td>8781000</td>\n",
       "      <td>3901000000</td>\n",
       "      <td>low</td>\n",
       "      <td>low</td>\n",
       "      <td>medium</td>\n",
       "    </tr>\n",
       "    <tr>\n",
       "      <th>173</th>\n",
       "      <td>VENEZUELA</td>\n",
       "      <td>SOUTH AMERICA</td>\n",
       "      <td>1.3</td>\n",
       "      <td>very_low</td>\n",
       "      <td>33493000</td>\n",
       "      <td>54474000</td>\n",
       "      <td>9794000000</td>\n",
       "      <td>very_high</td>\n",
       "      <td>medium</td>\n",
       "      <td>medium</td>\n",
       "    </tr>\n",
       "    <tr>\n",
       "      <th>174</th>\n",
       "      <td>NIGERIA</td>\n",
       "      <td>AFRICA</td>\n",
       "      <td>0.5</td>\n",
       "      <td>very_low</td>\n",
       "      <td>4094000</td>\n",
       "      <td>7993000</td>\n",
       "      <td>35564000000</td>\n",
       "      <td>medium</td>\n",
       "      <td>very_low</td>\n",
       "      <td>high</td>\n",
       "    </tr>\n",
       "    <tr>\n",
       "      <th>175</th>\n",
       "      <td>SOMALIA</td>\n",
       "      <td>AFRICA</td>\n",
       "      <td>0.3</td>\n",
       "      <td>very_low</td>\n",
       "      <td>156000</td>\n",
       "      <td>649000</td>\n",
       "      <td>30450000</td>\n",
       "      <td>very_low</td>\n",
       "      <td>very_low</td>\n",
       "      <td>very_low</td>\n",
       "    </tr>\n",
       "  </tbody>\n",
       "</table>\n",
       "<p>176 rows × 10 columns</p>\n",
       "</div>"
      ],
      "text/plain": [
       "              Country                             Region  \\\n",
       "0     SOLOMON ISLANDS              AUSTRALIA AND OCEANIA   \n",
       "1             BOLIVIA                      SOUTH AMERICA   \n",
       "2             NAMIBIA                             AFRICA   \n",
       "3        SIERRA LEONE                             AFRICA   \n",
       "4              BELIZE  CENTRAL AMERICA AND THE CARIBBEAN   \n",
       "..                ...                                ...   \n",
       "171             HAITI  CENTRAL AMERICA AND THE CARIBBEAN   \n",
       "172  PAPUA NEW GUINEA            EAST AND SOUTHEAST ASIA   \n",
       "173         VENEZUELA                      SOUTH AMERICA   \n",
       "174           NIGERIA                             AFRICA   \n",
       "175           SOMALIA                             AFRICA   \n",
       "\n",
       "     education_expenditure(%GDP) education_categorie  power_generation(kW)  \\\n",
       "0                           12.8           very_high                 37000   \n",
       "1                            9.8           very_high               4375000   \n",
       "2                            9.6           very_high                646000   \n",
       "3                            9.1           very_high                149000   \n",
       "4                            8.7           very_high                220000   \n",
       "..                           ...                 ...                   ...   \n",
       "171                          1.4            very_low                472000   \n",
       "172                          1.4            very_low               1148000   \n",
       "173                          1.3            very_low              33493000   \n",
       "174                          0.5            very_low               4094000   \n",
       "175                          0.3            very_low                156000   \n",
       "\n",
       "     Btu/person_consumption($)  financial_assets_value($)  \\\n",
       "0                      5655000                  688220000   \n",
       "1                     29340000                 1800000000   \n",
       "2                     21734000                 2956000000   \n",
       "3                      2301000                  495699000   \n",
       "4                     30752000                  473729000   \n",
       "..                         ...                        ...   \n",
       "171                    3486000                 2586000000   \n",
       "172                    8781000                 3901000000   \n",
       "173                   54474000                 9794000000   \n",
       "174                    7993000                35564000000   \n",
       "175                     649000                   30450000   \n",
       "\n",
       "    generation_categorie consumption_categorie financial_categorie  \n",
       "0               very_low              very_low            very_low  \n",
       "1                 medium                medium                 low  \n",
       "2                    low                   low                 low  \n",
       "3               very_low              very_low            very_low  \n",
       "4               very_low                medium            very_low  \n",
       "..                   ...                   ...                 ...  \n",
       "171                  low              very_low                 low  \n",
       "172                  low                   low              medium  \n",
       "173            very_high                medium              medium  \n",
       "174               medium              very_low                high  \n",
       "175             very_low              very_low            very_low  \n",
       "\n",
       "[176 rows x 10 columns]"
      ]
     },
     "execution_count": 119,
     "metadata": {},
     "output_type": "execute_result"
    }
   ],
   "source": [
    "cat1 = New_dataframe['education_categorie']\n",
    "New_dataframe=New_dataframe.drop(columns=['education_categorie'])\n",
    "New_dataframe.insert(3, 'education_categorie', cat1 )\n",
    "New_dataframe"
   ]
  },
  {
   "cell_type": "code",
   "execution_count": 120,
   "metadata": {
    "colab": {
     "base_uri": "https://localhost:8080/",
     "height": 669
    },
    "id": "5kmxueb-0C0Z",
    "outputId": "77766ec5-9e35-48b2-9906-28ce88b86b82"
   },
   "outputs": [
    {
     "data": {
      "text/html": [
       "<div>\n",
       "<style scoped>\n",
       "    .dataframe tbody tr th:only-of-type {\n",
       "        vertical-align: middle;\n",
       "    }\n",
       "\n",
       "    .dataframe tbody tr th {\n",
       "        vertical-align: top;\n",
       "    }\n",
       "\n",
       "    .dataframe thead th {\n",
       "        text-align: right;\n",
       "    }\n",
       "</style>\n",
       "<table border=\"1\" class=\"dataframe\">\n",
       "  <thead>\n",
       "    <tr style=\"text-align: right;\">\n",
       "      <th></th>\n",
       "      <th>Country</th>\n",
       "      <th>Region</th>\n",
       "      <th>education_expenditure(%GDP)</th>\n",
       "      <th>education_categorie</th>\n",
       "      <th>power_generation(kW)</th>\n",
       "      <th>generation_categorie</th>\n",
       "      <th>Btu/person_consumption($)</th>\n",
       "      <th>financial_assets_value($)</th>\n",
       "      <th>consumption_categorie</th>\n",
       "      <th>financial_categorie</th>\n",
       "    </tr>\n",
       "  </thead>\n",
       "  <tbody>\n",
       "    <tr>\n",
       "      <th>0</th>\n",
       "      <td>SOLOMON ISLANDS</td>\n",
       "      <td>AUSTRALIA AND OCEANIA</td>\n",
       "      <td>12.8</td>\n",
       "      <td>very_high</td>\n",
       "      <td>37000</td>\n",
       "      <td>very_low</td>\n",
       "      <td>5655000</td>\n",
       "      <td>688220000</td>\n",
       "      <td>very_low</td>\n",
       "      <td>very_low</td>\n",
       "    </tr>\n",
       "    <tr>\n",
       "      <th>1</th>\n",
       "      <td>BOLIVIA</td>\n",
       "      <td>SOUTH AMERICA</td>\n",
       "      <td>9.8</td>\n",
       "      <td>very_high</td>\n",
       "      <td>4375000</td>\n",
       "      <td>medium</td>\n",
       "      <td>29340000</td>\n",
       "      <td>1800000000</td>\n",
       "      <td>medium</td>\n",
       "      <td>low</td>\n",
       "    </tr>\n",
       "    <tr>\n",
       "      <th>2</th>\n",
       "      <td>NAMIBIA</td>\n",
       "      <td>AFRICA</td>\n",
       "      <td>9.6</td>\n",
       "      <td>very_high</td>\n",
       "      <td>646000</td>\n",
       "      <td>low</td>\n",
       "      <td>21734000</td>\n",
       "      <td>2956000000</td>\n",
       "      <td>low</td>\n",
       "      <td>low</td>\n",
       "    </tr>\n",
       "    <tr>\n",
       "      <th>3</th>\n",
       "      <td>SIERRA LEONE</td>\n",
       "      <td>AFRICA</td>\n",
       "      <td>9.1</td>\n",
       "      <td>very_high</td>\n",
       "      <td>149000</td>\n",
       "      <td>very_low</td>\n",
       "      <td>2301000</td>\n",
       "      <td>495699000</td>\n",
       "      <td>very_low</td>\n",
       "      <td>very_low</td>\n",
       "    </tr>\n",
       "    <tr>\n",
       "      <th>4</th>\n",
       "      <td>BELIZE</td>\n",
       "      <td>CENTRAL AMERICA AND THE CARIBBEAN</td>\n",
       "      <td>8.7</td>\n",
       "      <td>very_high</td>\n",
       "      <td>220000</td>\n",
       "      <td>very_low</td>\n",
       "      <td>30752000</td>\n",
       "      <td>473729000</td>\n",
       "      <td>medium</td>\n",
       "      <td>very_low</td>\n",
       "    </tr>\n",
       "    <tr>\n",
       "      <th>...</th>\n",
       "      <td>...</td>\n",
       "      <td>...</td>\n",
       "      <td>...</td>\n",
       "      <td>...</td>\n",
       "      <td>...</td>\n",
       "      <td>...</td>\n",
       "      <td>...</td>\n",
       "      <td>...</td>\n",
       "      <td>...</td>\n",
       "      <td>...</td>\n",
       "    </tr>\n",
       "    <tr>\n",
       "      <th>171</th>\n",
       "      <td>HAITI</td>\n",
       "      <td>CENTRAL AMERICA AND THE CARIBBEAN</td>\n",
       "      <td>1.4</td>\n",
       "      <td>very_low</td>\n",
       "      <td>472000</td>\n",
       "      <td>low</td>\n",
       "      <td>3486000</td>\n",
       "      <td>2586000000</td>\n",
       "      <td>very_low</td>\n",
       "      <td>low</td>\n",
       "    </tr>\n",
       "    <tr>\n",
       "      <th>172</th>\n",
       "      <td>PAPUA NEW GUINEA</td>\n",
       "      <td>EAST AND SOUTHEAST ASIA</td>\n",
       "      <td>1.4</td>\n",
       "      <td>very_low</td>\n",
       "      <td>1148000</td>\n",
       "      <td>low</td>\n",
       "      <td>8781000</td>\n",
       "      <td>3901000000</td>\n",
       "      <td>low</td>\n",
       "      <td>medium</td>\n",
       "    </tr>\n",
       "    <tr>\n",
       "      <th>173</th>\n",
       "      <td>VENEZUELA</td>\n",
       "      <td>SOUTH AMERICA</td>\n",
       "      <td>1.3</td>\n",
       "      <td>very_low</td>\n",
       "      <td>33493000</td>\n",
       "      <td>very_high</td>\n",
       "      <td>54474000</td>\n",
       "      <td>9794000000</td>\n",
       "      <td>medium</td>\n",
       "      <td>medium</td>\n",
       "    </tr>\n",
       "    <tr>\n",
       "      <th>174</th>\n",
       "      <td>NIGERIA</td>\n",
       "      <td>AFRICA</td>\n",
       "      <td>0.5</td>\n",
       "      <td>very_low</td>\n",
       "      <td>4094000</td>\n",
       "      <td>medium</td>\n",
       "      <td>7993000</td>\n",
       "      <td>35564000000</td>\n",
       "      <td>very_low</td>\n",
       "      <td>high</td>\n",
       "    </tr>\n",
       "    <tr>\n",
       "      <th>175</th>\n",
       "      <td>SOMALIA</td>\n",
       "      <td>AFRICA</td>\n",
       "      <td>0.3</td>\n",
       "      <td>very_low</td>\n",
       "      <td>156000</td>\n",
       "      <td>very_low</td>\n",
       "      <td>649000</td>\n",
       "      <td>30450000</td>\n",
       "      <td>very_low</td>\n",
       "      <td>very_low</td>\n",
       "    </tr>\n",
       "  </tbody>\n",
       "</table>\n",
       "<p>176 rows × 10 columns</p>\n",
       "</div>"
      ],
      "text/plain": [
       "              Country                             Region  \\\n",
       "0     SOLOMON ISLANDS              AUSTRALIA AND OCEANIA   \n",
       "1             BOLIVIA                      SOUTH AMERICA   \n",
       "2             NAMIBIA                             AFRICA   \n",
       "3        SIERRA LEONE                             AFRICA   \n",
       "4              BELIZE  CENTRAL AMERICA AND THE CARIBBEAN   \n",
       "..                ...                                ...   \n",
       "171             HAITI  CENTRAL AMERICA AND THE CARIBBEAN   \n",
       "172  PAPUA NEW GUINEA            EAST AND SOUTHEAST ASIA   \n",
       "173         VENEZUELA                      SOUTH AMERICA   \n",
       "174           NIGERIA                             AFRICA   \n",
       "175           SOMALIA                             AFRICA   \n",
       "\n",
       "     education_expenditure(%GDP) education_categorie  power_generation(kW)  \\\n",
       "0                           12.8           very_high                 37000   \n",
       "1                            9.8           very_high               4375000   \n",
       "2                            9.6           very_high                646000   \n",
       "3                            9.1           very_high                149000   \n",
       "4                            8.7           very_high                220000   \n",
       "..                           ...                 ...                   ...   \n",
       "171                          1.4            very_low                472000   \n",
       "172                          1.4            very_low               1148000   \n",
       "173                          1.3            very_low              33493000   \n",
       "174                          0.5            very_low               4094000   \n",
       "175                          0.3            very_low                156000   \n",
       "\n",
       "    generation_categorie  Btu/person_consumption($)  \\\n",
       "0               very_low                    5655000   \n",
       "1                 medium                   29340000   \n",
       "2                    low                   21734000   \n",
       "3               very_low                    2301000   \n",
       "4               very_low                   30752000   \n",
       "..                   ...                        ...   \n",
       "171                  low                    3486000   \n",
       "172                  low                    8781000   \n",
       "173            very_high                   54474000   \n",
       "174               medium                    7993000   \n",
       "175             very_low                     649000   \n",
       "\n",
       "     financial_assets_value($) consumption_categorie financial_categorie  \n",
       "0                    688220000              very_low            very_low  \n",
       "1                   1800000000                medium                 low  \n",
       "2                   2956000000                   low                 low  \n",
       "3                    495699000              very_low            very_low  \n",
       "4                    473729000                medium            very_low  \n",
       "..                         ...                   ...                 ...  \n",
       "171                 2586000000              very_low                 low  \n",
       "172                 3901000000                   low              medium  \n",
       "173                 9794000000                medium              medium  \n",
       "174                35564000000              very_low                high  \n",
       "175                   30450000              very_low            very_low  \n",
       "\n",
       "[176 rows x 10 columns]"
      ]
     },
     "execution_count": 120,
     "metadata": {},
     "output_type": "execute_result"
    }
   ],
   "source": [
    "cat2 = New_dataframe['generation_categorie']\n",
    "New_dataframe=New_dataframe.drop(columns=['generation_categorie'])\n",
    "New_dataframe.insert(5, 'generation_categorie', cat2 )\n",
    "New_dataframe"
   ]
  },
  {
   "cell_type": "code",
   "execution_count": 121,
   "metadata": {
    "colab": {
     "base_uri": "https://localhost:8080/",
     "height": 669
    },
    "id": "IT1fNcox0ZSC",
    "outputId": "13ca4101-7ef3-4b0e-f2f5-0dba15ba12f7"
   },
   "outputs": [
    {
     "data": {
      "text/html": [
       "<div>\n",
       "<style scoped>\n",
       "    .dataframe tbody tr th:only-of-type {\n",
       "        vertical-align: middle;\n",
       "    }\n",
       "\n",
       "    .dataframe tbody tr th {\n",
       "        vertical-align: top;\n",
       "    }\n",
       "\n",
       "    .dataframe thead th {\n",
       "        text-align: right;\n",
       "    }\n",
       "</style>\n",
       "<table border=\"1\" class=\"dataframe\">\n",
       "  <thead>\n",
       "    <tr style=\"text-align: right;\">\n",
       "      <th></th>\n",
       "      <th>Country</th>\n",
       "      <th>Region</th>\n",
       "      <th>education_expenditure(%GDP)</th>\n",
       "      <th>education_categorie</th>\n",
       "      <th>power_generation(kW)</th>\n",
       "      <th>generation_categorie</th>\n",
       "      <th>Btu/person_consumption($)</th>\n",
       "      <th>consumption_categorie</th>\n",
       "      <th>financial_assets_value($)</th>\n",
       "      <th>financial_categorie</th>\n",
       "    </tr>\n",
       "  </thead>\n",
       "  <tbody>\n",
       "    <tr>\n",
       "      <th>0</th>\n",
       "      <td>SOLOMON ISLANDS</td>\n",
       "      <td>AUSTRALIA AND OCEANIA</td>\n",
       "      <td>12.8</td>\n",
       "      <td>very_high</td>\n",
       "      <td>37000</td>\n",
       "      <td>very_low</td>\n",
       "      <td>5655000</td>\n",
       "      <td>very_low</td>\n",
       "      <td>688220000</td>\n",
       "      <td>very_low</td>\n",
       "    </tr>\n",
       "    <tr>\n",
       "      <th>1</th>\n",
       "      <td>BOLIVIA</td>\n",
       "      <td>SOUTH AMERICA</td>\n",
       "      <td>9.8</td>\n",
       "      <td>very_high</td>\n",
       "      <td>4375000</td>\n",
       "      <td>medium</td>\n",
       "      <td>29340000</td>\n",
       "      <td>medium</td>\n",
       "      <td>1800000000</td>\n",
       "      <td>low</td>\n",
       "    </tr>\n",
       "    <tr>\n",
       "      <th>2</th>\n",
       "      <td>NAMIBIA</td>\n",
       "      <td>AFRICA</td>\n",
       "      <td>9.6</td>\n",
       "      <td>very_high</td>\n",
       "      <td>646000</td>\n",
       "      <td>low</td>\n",
       "      <td>21734000</td>\n",
       "      <td>low</td>\n",
       "      <td>2956000000</td>\n",
       "      <td>low</td>\n",
       "    </tr>\n",
       "    <tr>\n",
       "      <th>3</th>\n",
       "      <td>SIERRA LEONE</td>\n",
       "      <td>AFRICA</td>\n",
       "      <td>9.1</td>\n",
       "      <td>very_high</td>\n",
       "      <td>149000</td>\n",
       "      <td>very_low</td>\n",
       "      <td>2301000</td>\n",
       "      <td>very_low</td>\n",
       "      <td>495699000</td>\n",
       "      <td>very_low</td>\n",
       "    </tr>\n",
       "    <tr>\n",
       "      <th>4</th>\n",
       "      <td>BELIZE</td>\n",
       "      <td>CENTRAL AMERICA AND THE CARIBBEAN</td>\n",
       "      <td>8.7</td>\n",
       "      <td>very_high</td>\n",
       "      <td>220000</td>\n",
       "      <td>very_low</td>\n",
       "      <td>30752000</td>\n",
       "      <td>medium</td>\n",
       "      <td>473729000</td>\n",
       "      <td>very_low</td>\n",
       "    </tr>\n",
       "    <tr>\n",
       "      <th>...</th>\n",
       "      <td>...</td>\n",
       "      <td>...</td>\n",
       "      <td>...</td>\n",
       "      <td>...</td>\n",
       "      <td>...</td>\n",
       "      <td>...</td>\n",
       "      <td>...</td>\n",
       "      <td>...</td>\n",
       "      <td>...</td>\n",
       "      <td>...</td>\n",
       "    </tr>\n",
       "    <tr>\n",
       "      <th>171</th>\n",
       "      <td>HAITI</td>\n",
       "      <td>CENTRAL AMERICA AND THE CARIBBEAN</td>\n",
       "      <td>1.4</td>\n",
       "      <td>very_low</td>\n",
       "      <td>472000</td>\n",
       "      <td>low</td>\n",
       "      <td>3486000</td>\n",
       "      <td>very_low</td>\n",
       "      <td>2586000000</td>\n",
       "      <td>low</td>\n",
       "    </tr>\n",
       "    <tr>\n",
       "      <th>172</th>\n",
       "      <td>PAPUA NEW GUINEA</td>\n",
       "      <td>EAST AND SOUTHEAST ASIA</td>\n",
       "      <td>1.4</td>\n",
       "      <td>very_low</td>\n",
       "      <td>1148000</td>\n",
       "      <td>low</td>\n",
       "      <td>8781000</td>\n",
       "      <td>low</td>\n",
       "      <td>3901000000</td>\n",
       "      <td>medium</td>\n",
       "    </tr>\n",
       "    <tr>\n",
       "      <th>173</th>\n",
       "      <td>VENEZUELA</td>\n",
       "      <td>SOUTH AMERICA</td>\n",
       "      <td>1.3</td>\n",
       "      <td>very_low</td>\n",
       "      <td>33493000</td>\n",
       "      <td>very_high</td>\n",
       "      <td>54474000</td>\n",
       "      <td>medium</td>\n",
       "      <td>9794000000</td>\n",
       "      <td>medium</td>\n",
       "    </tr>\n",
       "    <tr>\n",
       "      <th>174</th>\n",
       "      <td>NIGERIA</td>\n",
       "      <td>AFRICA</td>\n",
       "      <td>0.5</td>\n",
       "      <td>very_low</td>\n",
       "      <td>4094000</td>\n",
       "      <td>medium</td>\n",
       "      <td>7993000</td>\n",
       "      <td>very_low</td>\n",
       "      <td>35564000000</td>\n",
       "      <td>high</td>\n",
       "    </tr>\n",
       "    <tr>\n",
       "      <th>175</th>\n",
       "      <td>SOMALIA</td>\n",
       "      <td>AFRICA</td>\n",
       "      <td>0.3</td>\n",
       "      <td>very_low</td>\n",
       "      <td>156000</td>\n",
       "      <td>very_low</td>\n",
       "      <td>649000</td>\n",
       "      <td>very_low</td>\n",
       "      <td>30450000</td>\n",
       "      <td>very_low</td>\n",
       "    </tr>\n",
       "  </tbody>\n",
       "</table>\n",
       "<p>176 rows × 10 columns</p>\n",
       "</div>"
      ],
      "text/plain": [
       "              Country                             Region  \\\n",
       "0     SOLOMON ISLANDS              AUSTRALIA AND OCEANIA   \n",
       "1             BOLIVIA                      SOUTH AMERICA   \n",
       "2             NAMIBIA                             AFRICA   \n",
       "3        SIERRA LEONE                             AFRICA   \n",
       "4              BELIZE  CENTRAL AMERICA AND THE CARIBBEAN   \n",
       "..                ...                                ...   \n",
       "171             HAITI  CENTRAL AMERICA AND THE CARIBBEAN   \n",
       "172  PAPUA NEW GUINEA            EAST AND SOUTHEAST ASIA   \n",
       "173         VENEZUELA                      SOUTH AMERICA   \n",
       "174           NIGERIA                             AFRICA   \n",
       "175           SOMALIA                             AFRICA   \n",
       "\n",
       "     education_expenditure(%GDP) education_categorie  power_generation(kW)  \\\n",
       "0                           12.8           very_high                 37000   \n",
       "1                            9.8           very_high               4375000   \n",
       "2                            9.6           very_high                646000   \n",
       "3                            9.1           very_high                149000   \n",
       "4                            8.7           very_high                220000   \n",
       "..                           ...                 ...                   ...   \n",
       "171                          1.4            very_low                472000   \n",
       "172                          1.4            very_low               1148000   \n",
       "173                          1.3            very_low              33493000   \n",
       "174                          0.5            very_low               4094000   \n",
       "175                          0.3            very_low                156000   \n",
       "\n",
       "    generation_categorie  Btu/person_consumption($) consumption_categorie  \\\n",
       "0               very_low                    5655000              very_low   \n",
       "1                 medium                   29340000                medium   \n",
       "2                    low                   21734000                   low   \n",
       "3               very_low                    2301000              very_low   \n",
       "4               very_low                   30752000                medium   \n",
       "..                   ...                        ...                   ...   \n",
       "171                  low                    3486000              very_low   \n",
       "172                  low                    8781000                   low   \n",
       "173            very_high                   54474000                medium   \n",
       "174               medium                    7993000              very_low   \n",
       "175             very_low                     649000              very_low   \n",
       "\n",
       "     financial_assets_value($) financial_categorie  \n",
       "0                    688220000            very_low  \n",
       "1                   1800000000                 low  \n",
       "2                   2956000000                 low  \n",
       "3                    495699000            very_low  \n",
       "4                    473729000            very_low  \n",
       "..                         ...                 ...  \n",
       "171                 2586000000                 low  \n",
       "172                 3901000000              medium  \n",
       "173                 9794000000              medium  \n",
       "174                35564000000                high  \n",
       "175                   30450000            very_low  \n",
       "\n",
       "[176 rows x 10 columns]"
      ]
     },
     "execution_count": 121,
     "metadata": {},
     "output_type": "execute_result"
    }
   ],
   "source": [
    "cat3 = New_dataframe['consumption_categorie']\n",
    "New_dataframe=New_dataframe.drop(columns=['consumption_categorie'])\n",
    "New_dataframe.insert(7, 'consumption_categorie', cat3 )\n",
    "New_dataframe"
   ]
  },
  {
   "cell_type": "code",
   "execution_count": 122,
   "metadata": {
    "colab": {
     "base_uri": "https://localhost:8080/"
    },
    "id": "G0OfM12407aI",
    "outputId": "1292c447-6fe1-4657-e6aa-0eb11675b865"
   },
   "outputs": [
    {
     "name": "stdout",
     "output_type": "stream",
     "text": [
      "<class 'pandas.core.frame.DataFrame'>\n",
      "RangeIndex: 176 entries, 0 to 175\n",
      "Data columns (total 10 columns):\n",
      " #   Column                       Non-Null Count  Dtype   \n",
      "---  ------                       --------------  -----   \n",
      " 0   Country                      176 non-null    object  \n",
      " 1   Region                       176 non-null    object  \n",
      " 2   education_expenditure(%GDP)  176 non-null    float64 \n",
      " 3   education_categorie          176 non-null    category\n",
      " 4   power_generation(kW)         176 non-null    int64   \n",
      " 5   generation_categorie         176 non-null    category\n",
      " 6   Btu/person_consumption($)    176 non-null    int64   \n",
      " 7   consumption_categorie        176 non-null    category\n",
      " 8   financial_assets_value($)    176 non-null    int64   \n",
      " 9   financial_categorie          176 non-null    category\n",
      "dtypes: category(4), float64(1), int64(3), object(2)\n",
      "memory usage: 9.9+ KB\n"
     ]
    }
   ],
   "source": [
    "New_dataframe.info()"
   ]
  },
  {
   "cell_type": "markdown",
   "metadata": {
    "id": "gOhtEz1L0_zw"
   },
   "source": [
    "Para salvaguardar las columnas category, utilizamos pikle. Pero también en formato csv"
   ]
  },
  {
   "cell_type": "code",
   "execution_count": 123,
   "metadata": {
    "id": "4LSwvSGL0_LJ"
   },
   "outputs": [],
   "source": [
    "New_dataframe.to_csv(\"countrydata.csv\",index=False )\n",
    "New_dataframe.to_pickle(\"countrydata.pkl\")"
   ]
  }
 ],
 "metadata": {
  "colab": {
   "provenance": [],
   "toc_visible": true
  },
  "kernelspec": {
   "display_name": "Python 3 (ipykernel)",
   "language": "python",
   "name": "python3"
  },
  "language_info": {
   "codemirror_mode": {
    "name": "ipython",
    "version": 3
   },
   "file_extension": ".py",
   "mimetype": "text/x-python",
   "name": "python",
   "nbconvert_exporter": "python",
   "pygments_lexer": "ipython3",
   "version": "3.11.11"
  }
 },
 "nbformat": 4,
 "nbformat_minor": 4
}
